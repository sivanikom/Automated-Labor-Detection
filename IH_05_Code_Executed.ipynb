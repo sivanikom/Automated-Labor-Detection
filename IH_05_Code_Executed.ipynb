{
  "metadata": {
    "kernelspec": {
      "display_name": "Python 3",
      "language": "python",
      "name": "python3"
    },
    "language_info": {
      "name": "python",
      "version": "3.6.6",
      "mimetype": "text/x-python",
      "codemirror_mode": {
        "name": "ipython",
        "version": 3
      },
      "pygments_lexer": "ipython3",
      "nbconvert_exporter": "python",
      "file_extension": ".py"
    },
    "colab": {
      "provenance": [],
      "machine_shape": "hm",
      "include_colab_link": true
    },
    "accelerator": "GPU",
    "gpuClass": "standard"
  },
  "nbformat_minor": 0,
  "nbformat": 4,
  "cells": [
    {
      "cell_type": "markdown",
      "metadata": {
        "id": "view-in-github",
        "colab_type": "text"
      },
      "source": [
        "<a href=\"https://colab.research.google.com/github/sivanikom/Automated-Labor-Detection/blob/main/IH_05_Code_Executed.ipynb\" target=\"_parent\"><img src=\"https://colab.research.google.com/assets/colab-badge.svg\" alt=\"Open In Colab\"/></a>"
      ]
    },
    {
      "cell_type": "code",
      "source": [
        "from google.colab import drive\n",
        "drive.mount('/content/drive')"
      ],
      "metadata": {
        "colab": {
          "base_uri": "https://localhost:8080/"
        },
        "id": "F2uksAXdB87R",
        "outputId": "c7a1ac79-ffba-488c-fe4a-d0d8596fcb00"
      },
      "execution_count": null,
      "outputs": [
        {
          "output_type": "stream",
          "name": "stdout",
          "text": [
            "Mounted at /content/drive\n"
          ]
        }
      ]
    },
    {
      "cell_type": "code",
      "source": [
        "from zipfile import ZipFile\n",
        "\n",
        "with ZipFile('/content/drive/MyDrive/Research/PRETERM/term-preterm-ehg-database-1.0.1.zip', 'r') as zipObj:\n",
        "   # Extract all the contents of zip file in current directory\n",
        "   zipObj.extractall('/content/sample_data/preterm')"
      ],
      "metadata": {
        "id": "8uvQVuyW_IHV"
      },
      "execution_count": null,
      "outputs": []
    },
    {
      "cell_type": "code",
      "source": [
        "# check what is inside each directory and content\n",
        "!pwd\n",
        "!ls -all '/content/sample_data/preterm'"
      ],
      "metadata": {
        "colab": {
          "base_uri": "https://localhost:8080/"
        },
        "id": "QJ-LtYyMCdtY",
        "outputId": "90c1e0ea-bb08-4474-fe55-aa006ea4aa58"
      },
      "execution_count": null,
      "outputs": [
        {
          "output_type": "stream",
          "name": "stdout",
          "text": [
            "/content\n",
            "total 12\n",
            "drwxr-xr-x 3 root root 4096 Jul  8 23:57 .\n",
            "drwxr-xr-x 1 root root 4096 Jul  8 23:57 ..\n",
            "drwxr-xr-x 3 root root 4096 Jul  8 23:57 term-preterm-ehg-database-1.0.1\n"
          ]
        }
      ]
    },
    {
      "cell_type": "code",
      "source": [
        "!pip install wfdb"
      ],
      "metadata": {
        "colab": {
          "base_uri": "https://localhost:8080/"
        },
        "id": "xaN2s5oZPz_9",
        "outputId": "c4db57a6-e9a5-40bb-c39a-77f089af9a16"
      },
      "execution_count": null,
      "outputs": [
        {
          "output_type": "stream",
          "name": "stdout",
          "text": [
            "Looking in indexes: https://pypi.org/simple, https://us-python.pkg.dev/colab-wheels/public/simple/\n",
            "Collecting wfdb\n",
            "  Downloading wfdb-4.0.0-py3-none-any.whl (161 kB)\n",
            "\u001b[K     |████████████████████████████████| 161 kB 8.0 MB/s \n",
            "\u001b[?25hRequirement already satisfied: requests<3.0.0,>=2.8.1 in /usr/local/lib/python3.7/dist-packages (from wfdb) (2.23.0)\n",
            "Requirement already satisfied: pandas<2.0.0,>=1.0.0 in /usr/local/lib/python3.7/dist-packages (from wfdb) (1.3.5)\n",
            "Requirement already satisfied: scipy<2.0.0,>=1.0.0 in /usr/local/lib/python3.7/dist-packages (from wfdb) (1.4.1)\n",
            "Requirement already satisfied: matplotlib<4.0.0,>=3.2.2 in /usr/local/lib/python3.7/dist-packages (from wfdb) (3.2.2)\n",
            "Requirement already satisfied: SoundFile<0.12.0,>=0.10.0 in /usr/local/lib/python3.7/dist-packages (from wfdb) (0.10.3.post1)\n",
            "Requirement already satisfied: numpy<2.0.0,>=1.10.1 in /usr/local/lib/python3.7/dist-packages (from wfdb) (1.21.6)\n",
            "Requirement already satisfied: pyparsing!=2.0.4,!=2.1.2,!=2.1.6,>=2.0.1 in /usr/local/lib/python3.7/dist-packages (from matplotlib<4.0.0,>=3.2.2->wfdb) (3.0.9)\n",
            "Requirement already satisfied: cycler>=0.10 in /usr/local/lib/python3.7/dist-packages (from matplotlib<4.0.0,>=3.2.2->wfdb) (0.11.0)\n",
            "Requirement already satisfied: python-dateutil>=2.1 in /usr/local/lib/python3.7/dist-packages (from matplotlib<4.0.0,>=3.2.2->wfdb) (2.8.2)\n",
            "Requirement already satisfied: kiwisolver>=1.0.1 in /usr/local/lib/python3.7/dist-packages (from matplotlib<4.0.0,>=3.2.2->wfdb) (1.4.3)\n",
            "Requirement already satisfied: typing-extensions in /usr/local/lib/python3.7/dist-packages (from kiwisolver>=1.0.1->matplotlib<4.0.0,>=3.2.2->wfdb) (4.1.1)\n",
            "Requirement already satisfied: pytz>=2017.3 in /usr/local/lib/python3.7/dist-packages (from pandas<2.0.0,>=1.0.0->wfdb) (2022.1)\n",
            "Requirement already satisfied: six>=1.5 in /usr/local/lib/python3.7/dist-packages (from python-dateutil>=2.1->matplotlib<4.0.0,>=3.2.2->wfdb) (1.15.0)\n",
            "Requirement already satisfied: urllib3!=1.25.0,!=1.25.1,<1.26,>=1.21.1 in /usr/local/lib/python3.7/dist-packages (from requests<3.0.0,>=2.8.1->wfdb) (1.24.3)\n",
            "Requirement already satisfied: certifi>=2017.4.17 in /usr/local/lib/python3.7/dist-packages (from requests<3.0.0,>=2.8.1->wfdb) (2022.6.15)\n",
            "Requirement already satisfied: idna<3,>=2.5 in /usr/local/lib/python3.7/dist-packages (from requests<3.0.0,>=2.8.1->wfdb) (2.10)\n",
            "Requirement already satisfied: chardet<4,>=3.0.2 in /usr/local/lib/python3.7/dist-packages (from requests<3.0.0,>=2.8.1->wfdb) (3.0.4)\n",
            "Requirement already satisfied: cffi>=1.0 in /usr/local/lib/python3.7/dist-packages (from SoundFile<0.12.0,>=0.10.0->wfdb) (1.15.0)\n",
            "Requirement already satisfied: pycparser in /usr/local/lib/python3.7/dist-packages (from cffi>=1.0->SoundFile<0.12.0,>=0.10.0->wfdb) (2.21)\n",
            "Installing collected packages: wfdb\n",
            "Successfully installed wfdb-4.0.0\n"
          ]
        }
      ]
    },
    {
      "cell_type": "code",
      "source": [
        "import wfdb\n",
        "import numpy as np\n",
        "import csv\n",
        "import pickle\n",
        "import pandas as pd\n",
        "import matplotlib.pyplot as plt"
      ],
      "metadata": {
        "id": "cNiml5ktH-Dd"
      },
      "execution_count": null,
      "outputs": []
    },
    {
      "cell_type": "code",
      "source": [
        "FEATURES = ['Gestation',\n",
        "'Age',\n",
        "'Parity',\n",
        "'Abortions',\n",
        "'Weight',\n",
        "'Hypertension',\n",
        "'Diabetes',\n",
        "'Placental_position',\n",
        "'Bleeding_first_trimester',\n",
        "'Bleeding_second_trimester',\n",
        "'Funneling',\n",
        "'Smoker']\n",
        "print(len(FEATURES))"
      ],
      "metadata": {
        "colab": {
          "base_uri": "https://localhost:8080/"
        },
        "id": "GmuRVErTH-HD",
        "outputId": "1399d5c9-64c9-4e52-c562-ba6cc2f55e6b"
      },
      "execution_count": null,
      "outputs": [
        {
          "output_type": "stream",
          "name": "stdout",
          "text": [
            "12\n"
          ]
        }
      ]
    },
    {
      "cell_type": "code",
      "source": [],
      "metadata": {
        "id": "KmRuZ5FVH-Xk"
      },
      "execution_count": null,
      "outputs": []
    },
    {
      "cell_type": "markdown",
      "source": [
        "# Data Preprocessing\n",
        "1. delete the records with missing features\n",
        "2. encode the values"
      ],
      "metadata": {
        "id": "_jdsJ_H6EnlT"
      }
    },
    {
      "cell_type": "code",
      "source": [
        "import pandas as pd\n",
        "from sklearn import preprocessing"
      ],
      "metadata": {
        "id": "oi1bGzjY-zC7"
      },
      "execution_count": null,
      "outputs": []
    },
    {
      "cell_type": "code",
      "source": [
        "raw_df = pd.read_csv('/content/drive/MyDrive/Research/PRETERM/all_records_and_signals.csv')\n",
        "raw_df.head()"
      ],
      "metadata": {
        "colab": {
          "base_uri": "https://localhost:8080/",
          "height": 305
        },
        "id": "9kVdibuF-zGC",
        "outputId": "b0cb6f66-1111-48ef-eb5b-145bf63b75a8"
      },
      "execution_count": null,
      "outputs": [
        {
          "output_type": "execute_result",
          "data": {
            "text/plain": [
              "   Gestation   Age Parity Abortions Weight Hypertension Diabetes  \\\n",
              "0       35.0    30      0         0     58           no       no   \n",
              "1       38.6  None   None      None     63         None     None   \n",
              "2       38.6  None   None      None     70         None     None   \n",
              "3       37.1    27      0         1    100           no       no   \n",
              "4       38.6    28      0         2     72           no       no   \n",
              "\n",
              "  Placental_position Bleeding_first_trimester Bleeding_second_trimester  \\\n",
              "0              front                       no                        no   \n",
              "1                end                      yes                        no   \n",
              "2                end                      yes                        no   \n",
              "3              front                       no                        no   \n",
              "4              front                       no                        no   \n",
              "\n",
              "  Funneling Smoker  Root Mean Square  Median Frequency  Peak Frequency  \\\n",
              "0  negative     no           27.9148            0.3109          0.3159   \n",
              "1  negative   None           54.2390            0.1426          0.1126   \n",
              "2  negative   None           26.1735            0.1598          0.1049   \n",
              "3  negative     no            7.5545            0.1750          0.1522   \n",
              "4  negative     no           12.7331            0.1816          0.1816   \n",
              "\n",
              "   Sample Entropy  \n",
              "0           0.502  \n",
              "1           0.243  \n",
              "2           0.396  \n",
              "3           0.732  \n",
              "4           0.817  "
            ],
            "text/html": [
              "\n",
              "  <div id=\"df-007d6dbf-5a0c-4ca6-9fa7-5518b08ed41f\">\n",
              "    <div class=\"colab-df-container\">\n",
              "      <div>\n",
              "<style scoped>\n",
              "    .dataframe tbody tr th:only-of-type {\n",
              "        vertical-align: middle;\n",
              "    }\n",
              "\n",
              "    .dataframe tbody tr th {\n",
              "        vertical-align: top;\n",
              "    }\n",
              "\n",
              "    .dataframe thead th {\n",
              "        text-align: right;\n",
              "    }\n",
              "</style>\n",
              "<table border=\"1\" class=\"dataframe\">\n",
              "  <thead>\n",
              "    <tr style=\"text-align: right;\">\n",
              "      <th></th>\n",
              "      <th>Gestation</th>\n",
              "      <th>Age</th>\n",
              "      <th>Parity</th>\n",
              "      <th>Abortions</th>\n",
              "      <th>Weight</th>\n",
              "      <th>Hypertension</th>\n",
              "      <th>Diabetes</th>\n",
              "      <th>Placental_position</th>\n",
              "      <th>Bleeding_first_trimester</th>\n",
              "      <th>Bleeding_second_trimester</th>\n",
              "      <th>Funneling</th>\n",
              "      <th>Smoker</th>\n",
              "      <th>Root Mean Square</th>\n",
              "      <th>Median Frequency</th>\n",
              "      <th>Peak Frequency</th>\n",
              "      <th>Sample Entropy</th>\n",
              "    </tr>\n",
              "  </thead>\n",
              "  <tbody>\n",
              "    <tr>\n",
              "      <th>0</th>\n",
              "      <td>35.0</td>\n",
              "      <td>30</td>\n",
              "      <td>0</td>\n",
              "      <td>0</td>\n",
              "      <td>58</td>\n",
              "      <td>no</td>\n",
              "      <td>no</td>\n",
              "      <td>front</td>\n",
              "      <td>no</td>\n",
              "      <td>no</td>\n",
              "      <td>negative</td>\n",
              "      <td>no</td>\n",
              "      <td>27.9148</td>\n",
              "      <td>0.3109</td>\n",
              "      <td>0.3159</td>\n",
              "      <td>0.502</td>\n",
              "    </tr>\n",
              "    <tr>\n",
              "      <th>1</th>\n",
              "      <td>38.6</td>\n",
              "      <td>None</td>\n",
              "      <td>None</td>\n",
              "      <td>None</td>\n",
              "      <td>63</td>\n",
              "      <td>None</td>\n",
              "      <td>None</td>\n",
              "      <td>end</td>\n",
              "      <td>yes</td>\n",
              "      <td>no</td>\n",
              "      <td>negative</td>\n",
              "      <td>None</td>\n",
              "      <td>54.2390</td>\n",
              "      <td>0.1426</td>\n",
              "      <td>0.1126</td>\n",
              "      <td>0.243</td>\n",
              "    </tr>\n",
              "    <tr>\n",
              "      <th>2</th>\n",
              "      <td>38.6</td>\n",
              "      <td>None</td>\n",
              "      <td>None</td>\n",
              "      <td>None</td>\n",
              "      <td>70</td>\n",
              "      <td>None</td>\n",
              "      <td>None</td>\n",
              "      <td>end</td>\n",
              "      <td>yes</td>\n",
              "      <td>no</td>\n",
              "      <td>negative</td>\n",
              "      <td>None</td>\n",
              "      <td>26.1735</td>\n",
              "      <td>0.1598</td>\n",
              "      <td>0.1049</td>\n",
              "      <td>0.396</td>\n",
              "    </tr>\n",
              "    <tr>\n",
              "      <th>3</th>\n",
              "      <td>37.1</td>\n",
              "      <td>27</td>\n",
              "      <td>0</td>\n",
              "      <td>1</td>\n",
              "      <td>100</td>\n",
              "      <td>no</td>\n",
              "      <td>no</td>\n",
              "      <td>front</td>\n",
              "      <td>no</td>\n",
              "      <td>no</td>\n",
              "      <td>negative</td>\n",
              "      <td>no</td>\n",
              "      <td>7.5545</td>\n",
              "      <td>0.1750</td>\n",
              "      <td>0.1522</td>\n",
              "      <td>0.732</td>\n",
              "    </tr>\n",
              "    <tr>\n",
              "      <th>4</th>\n",
              "      <td>38.6</td>\n",
              "      <td>28</td>\n",
              "      <td>0</td>\n",
              "      <td>2</td>\n",
              "      <td>72</td>\n",
              "      <td>no</td>\n",
              "      <td>no</td>\n",
              "      <td>front</td>\n",
              "      <td>no</td>\n",
              "      <td>no</td>\n",
              "      <td>negative</td>\n",
              "      <td>no</td>\n",
              "      <td>12.7331</td>\n",
              "      <td>0.1816</td>\n",
              "      <td>0.1816</td>\n",
              "      <td>0.817</td>\n",
              "    </tr>\n",
              "  </tbody>\n",
              "</table>\n",
              "</div>\n",
              "      <button class=\"colab-df-convert\" onclick=\"convertToInteractive('df-007d6dbf-5a0c-4ca6-9fa7-5518b08ed41f')\"\n",
              "              title=\"Convert this dataframe to an interactive table.\"\n",
              "              style=\"display:none;\">\n",
              "        \n",
              "  <svg xmlns=\"http://www.w3.org/2000/svg\" height=\"24px\"viewBox=\"0 0 24 24\"\n",
              "       width=\"24px\">\n",
              "    <path d=\"M0 0h24v24H0V0z\" fill=\"none\"/>\n",
              "    <path d=\"M18.56 5.44l.94 2.06.94-2.06 2.06-.94-2.06-.94-.94-2.06-.94 2.06-2.06.94zm-11 1L8.5 8.5l.94-2.06 2.06-.94-2.06-.94L8.5 2.5l-.94 2.06-2.06.94zm10 10l.94 2.06.94-2.06 2.06-.94-2.06-.94-.94-2.06-.94 2.06-2.06.94z\"/><path d=\"M17.41 7.96l-1.37-1.37c-.4-.4-.92-.59-1.43-.59-.52 0-1.04.2-1.43.59L10.3 9.45l-7.72 7.72c-.78.78-.78 2.05 0 2.83L4 21.41c.39.39.9.59 1.41.59.51 0 1.02-.2 1.41-.59l7.78-7.78 2.81-2.81c.8-.78.8-2.07 0-2.86zM5.41 20L4 18.59l7.72-7.72 1.47 1.35L5.41 20z\"/>\n",
              "  </svg>\n",
              "      </button>\n",
              "      \n",
              "  <style>\n",
              "    .colab-df-container {\n",
              "      display:flex;\n",
              "      flex-wrap:wrap;\n",
              "      gap: 12px;\n",
              "    }\n",
              "\n",
              "    .colab-df-convert {\n",
              "      background-color: #E8F0FE;\n",
              "      border: none;\n",
              "      border-radius: 50%;\n",
              "      cursor: pointer;\n",
              "      display: none;\n",
              "      fill: #1967D2;\n",
              "      height: 32px;\n",
              "      padding: 0 0 0 0;\n",
              "      width: 32px;\n",
              "    }\n",
              "\n",
              "    .colab-df-convert:hover {\n",
              "      background-color: #E2EBFA;\n",
              "      box-shadow: 0px 1px 2px rgba(60, 64, 67, 0.3), 0px 1px 3px 1px rgba(60, 64, 67, 0.15);\n",
              "      fill: #174EA6;\n",
              "    }\n",
              "\n",
              "    [theme=dark] .colab-df-convert {\n",
              "      background-color: #3B4455;\n",
              "      fill: #D2E3FC;\n",
              "    }\n",
              "\n",
              "    [theme=dark] .colab-df-convert:hover {\n",
              "      background-color: #434B5C;\n",
              "      box-shadow: 0px 1px 3px 1px rgba(0, 0, 0, 0.15);\n",
              "      filter: drop-shadow(0px 1px 2px rgba(0, 0, 0, 0.3));\n",
              "      fill: #FFFFFF;\n",
              "    }\n",
              "  </style>\n",
              "\n",
              "      <script>\n",
              "        const buttonEl =\n",
              "          document.querySelector('#df-007d6dbf-5a0c-4ca6-9fa7-5518b08ed41f button.colab-df-convert');\n",
              "        buttonEl.style.display =\n",
              "          google.colab.kernel.accessAllowed ? 'block' : 'none';\n",
              "\n",
              "        async function convertToInteractive(key) {\n",
              "          const element = document.querySelector('#df-007d6dbf-5a0c-4ca6-9fa7-5518b08ed41f');\n",
              "          const dataTable =\n",
              "            await google.colab.kernel.invokeFunction('convertToInteractive',\n",
              "                                                     [key], {});\n",
              "          if (!dataTable) return;\n",
              "\n",
              "          const docLinkHtml = 'Like what you see? Visit the ' +\n",
              "            '<a target=\"_blank\" href=https://colab.research.google.com/notebooks/data_table.ipynb>data table notebook</a>'\n",
              "            + ' to learn more about interactive tables.';\n",
              "          element.innerHTML = '';\n",
              "          dataTable['output_type'] = 'display_data';\n",
              "          await google.colab.output.renderOutput(dataTable, element);\n",
              "          const docLink = document.createElement('div');\n",
              "          docLink.innerHTML = docLinkHtml;\n",
              "          element.appendChild(docLink);\n",
              "        }\n",
              "      </script>\n",
              "    </div>\n",
              "  </div>\n",
              "  "
            ]
          },
          "metadata": {},
          "execution_count": 12
        }
      ]
    },
    {
      "cell_type": "markdown",
      "source": [
        "Drop the incomplete records\n",
        "and store it in a new csv file"
      ],
      "metadata": {
        "id": "x38hRwLQE8A-"
      }
    },
    {
      "cell_type": "code",
      "source": [
        "dropped_incomplete_df = raw_df.drop(raw_df[raw_df.eq('None').any(1)].index, inplace=False)\n",
        "dropped_incomplete_df.to_csv('incomplete_record_dropped.csv')"
      ],
      "metadata": {
        "id": "bUn77fQg-zJL"
      },
      "execution_count": null,
      "outputs": []
    },
    {
      "cell_type": "code",
      "source": [
        "# rename the untilted column\n",
        "incomplete_record_dropped_df = pd.read_csv('incomplete_record_dropped.csv')\n",
        "incomplete_record_dropped_df = incomplete_record_dropped_df.rename(columns={'Unnamed: 0':'record_number'})\n",
        "incomplete_record_dropped_df.to_csv('incomplete_record_dropped.csv', index=False)\n",
        "pre_encoding_df = pd.read_csv('incomplete_record_dropped.csv')\n",
        "pre_encoding_df.head()"
      ],
      "metadata": {
        "colab": {
          "base_uri": "https://localhost:8080/",
          "height": 305
        },
        "id": "s1k3QtpBEw_v",
        "outputId": "89321e4a-ee95-43f3-c356-ffde82dc3d7a"
      },
      "execution_count": null,
      "outputs": [
        {
          "output_type": "execute_result",
          "data": {
            "text/plain": [
              "   record_number  Gestation  Age  Parity  Abortions  Weight Hypertension  \\\n",
              "0              0       35.0   30       0          0      58           no   \n",
              "1              3       37.1   27       0          1     100           no   \n",
              "2              4       38.6   28       0          2      72           no   \n",
              "3              5       38.9   30       0          0      64           no   \n",
              "4              6       40.3   37       1          1      79           no   \n",
              "\n",
              "  Diabetes Placental_position Bleeding_first_trimester  \\\n",
              "0       no              front                       no   \n",
              "1       no              front                       no   \n",
              "2       no              front                       no   \n",
              "3       no                end                      yes   \n",
              "4       no                end                       no   \n",
              "\n",
              "  Bleeding_second_trimester Funneling Smoker  Root Mean Square  \\\n",
              "0                        no  negative     no           27.9148   \n",
              "1                        no  negative     no            7.5545   \n",
              "2                        no  negative     no           12.7331   \n",
              "3                        no  negative     no            8.4929   \n",
              "4                        no  negative     no           14.9220   \n",
              "\n",
              "   Median Frequency  Peak Frequency  Sample Entropy  \n",
              "0            0.3109          0.3159           0.502  \n",
              "1            0.1750          0.1522           0.732  \n",
              "2            0.1816          0.1816           0.817  \n",
              "3            0.3059          0.3402           0.747  \n",
              "4            0.1294          0.1144           0.499  "
            ],
            "text/html": [
              "\n",
              "  <div id=\"df-6358ce90-d1a3-4f84-9d94-cf25d9129bbc\">\n",
              "    <div class=\"colab-df-container\">\n",
              "      <div>\n",
              "<style scoped>\n",
              "    .dataframe tbody tr th:only-of-type {\n",
              "        vertical-align: middle;\n",
              "    }\n",
              "\n",
              "    .dataframe tbody tr th {\n",
              "        vertical-align: top;\n",
              "    }\n",
              "\n",
              "    .dataframe thead th {\n",
              "        text-align: right;\n",
              "    }\n",
              "</style>\n",
              "<table border=\"1\" class=\"dataframe\">\n",
              "  <thead>\n",
              "    <tr style=\"text-align: right;\">\n",
              "      <th></th>\n",
              "      <th>record_number</th>\n",
              "      <th>Gestation</th>\n",
              "      <th>Age</th>\n",
              "      <th>Parity</th>\n",
              "      <th>Abortions</th>\n",
              "      <th>Weight</th>\n",
              "      <th>Hypertension</th>\n",
              "      <th>Diabetes</th>\n",
              "      <th>Placental_position</th>\n",
              "      <th>Bleeding_first_trimester</th>\n",
              "      <th>Bleeding_second_trimester</th>\n",
              "      <th>Funneling</th>\n",
              "      <th>Smoker</th>\n",
              "      <th>Root Mean Square</th>\n",
              "      <th>Median Frequency</th>\n",
              "      <th>Peak Frequency</th>\n",
              "      <th>Sample Entropy</th>\n",
              "    </tr>\n",
              "  </thead>\n",
              "  <tbody>\n",
              "    <tr>\n",
              "      <th>0</th>\n",
              "      <td>0</td>\n",
              "      <td>35.0</td>\n",
              "      <td>30</td>\n",
              "      <td>0</td>\n",
              "      <td>0</td>\n",
              "      <td>58</td>\n",
              "      <td>no</td>\n",
              "      <td>no</td>\n",
              "      <td>front</td>\n",
              "      <td>no</td>\n",
              "      <td>no</td>\n",
              "      <td>negative</td>\n",
              "      <td>no</td>\n",
              "      <td>27.9148</td>\n",
              "      <td>0.3109</td>\n",
              "      <td>0.3159</td>\n",
              "      <td>0.502</td>\n",
              "    </tr>\n",
              "    <tr>\n",
              "      <th>1</th>\n",
              "      <td>3</td>\n",
              "      <td>37.1</td>\n",
              "      <td>27</td>\n",
              "      <td>0</td>\n",
              "      <td>1</td>\n",
              "      <td>100</td>\n",
              "      <td>no</td>\n",
              "      <td>no</td>\n",
              "      <td>front</td>\n",
              "      <td>no</td>\n",
              "      <td>no</td>\n",
              "      <td>negative</td>\n",
              "      <td>no</td>\n",
              "      <td>7.5545</td>\n",
              "      <td>0.1750</td>\n",
              "      <td>0.1522</td>\n",
              "      <td>0.732</td>\n",
              "    </tr>\n",
              "    <tr>\n",
              "      <th>2</th>\n",
              "      <td>4</td>\n",
              "      <td>38.6</td>\n",
              "      <td>28</td>\n",
              "      <td>0</td>\n",
              "      <td>2</td>\n",
              "      <td>72</td>\n",
              "      <td>no</td>\n",
              "      <td>no</td>\n",
              "      <td>front</td>\n",
              "      <td>no</td>\n",
              "      <td>no</td>\n",
              "      <td>negative</td>\n",
              "      <td>no</td>\n",
              "      <td>12.7331</td>\n",
              "      <td>0.1816</td>\n",
              "      <td>0.1816</td>\n",
              "      <td>0.817</td>\n",
              "    </tr>\n",
              "    <tr>\n",
              "      <th>3</th>\n",
              "      <td>5</td>\n",
              "      <td>38.9</td>\n",
              "      <td>30</td>\n",
              "      <td>0</td>\n",
              "      <td>0</td>\n",
              "      <td>64</td>\n",
              "      <td>no</td>\n",
              "      <td>no</td>\n",
              "      <td>end</td>\n",
              "      <td>yes</td>\n",
              "      <td>no</td>\n",
              "      <td>negative</td>\n",
              "      <td>no</td>\n",
              "      <td>8.4929</td>\n",
              "      <td>0.3059</td>\n",
              "      <td>0.3402</td>\n",
              "      <td>0.747</td>\n",
              "    </tr>\n",
              "    <tr>\n",
              "      <th>4</th>\n",
              "      <td>6</td>\n",
              "      <td>40.3</td>\n",
              "      <td>37</td>\n",
              "      <td>1</td>\n",
              "      <td>1</td>\n",
              "      <td>79</td>\n",
              "      <td>no</td>\n",
              "      <td>no</td>\n",
              "      <td>end</td>\n",
              "      <td>no</td>\n",
              "      <td>no</td>\n",
              "      <td>negative</td>\n",
              "      <td>no</td>\n",
              "      <td>14.9220</td>\n",
              "      <td>0.1294</td>\n",
              "      <td>0.1144</td>\n",
              "      <td>0.499</td>\n",
              "    </tr>\n",
              "  </tbody>\n",
              "</table>\n",
              "</div>\n",
              "      <button class=\"colab-df-convert\" onclick=\"convertToInteractive('df-6358ce90-d1a3-4f84-9d94-cf25d9129bbc')\"\n",
              "              title=\"Convert this dataframe to an interactive table.\"\n",
              "              style=\"display:none;\">\n",
              "        \n",
              "  <svg xmlns=\"http://www.w3.org/2000/svg\" height=\"24px\"viewBox=\"0 0 24 24\"\n",
              "       width=\"24px\">\n",
              "    <path d=\"M0 0h24v24H0V0z\" fill=\"none\"/>\n",
              "    <path d=\"M18.56 5.44l.94 2.06.94-2.06 2.06-.94-2.06-.94-.94-2.06-.94 2.06-2.06.94zm-11 1L8.5 8.5l.94-2.06 2.06-.94-2.06-.94L8.5 2.5l-.94 2.06-2.06.94zm10 10l.94 2.06.94-2.06 2.06-.94-2.06-.94-.94-2.06-.94 2.06-2.06.94z\"/><path d=\"M17.41 7.96l-1.37-1.37c-.4-.4-.92-.59-1.43-.59-.52 0-1.04.2-1.43.59L10.3 9.45l-7.72 7.72c-.78.78-.78 2.05 0 2.83L4 21.41c.39.39.9.59 1.41.59.51 0 1.02-.2 1.41-.59l7.78-7.78 2.81-2.81c.8-.78.8-2.07 0-2.86zM5.41 20L4 18.59l7.72-7.72 1.47 1.35L5.41 20z\"/>\n",
              "  </svg>\n",
              "      </button>\n",
              "      \n",
              "  <style>\n",
              "    .colab-df-container {\n",
              "      display:flex;\n",
              "      flex-wrap:wrap;\n",
              "      gap: 12px;\n",
              "    }\n",
              "\n",
              "    .colab-df-convert {\n",
              "      background-color: #E8F0FE;\n",
              "      border: none;\n",
              "      border-radius: 50%;\n",
              "      cursor: pointer;\n",
              "      display: none;\n",
              "      fill: #1967D2;\n",
              "      height: 32px;\n",
              "      padding: 0 0 0 0;\n",
              "      width: 32px;\n",
              "    }\n",
              "\n",
              "    .colab-df-convert:hover {\n",
              "      background-color: #E2EBFA;\n",
              "      box-shadow: 0px 1px 2px rgba(60, 64, 67, 0.3), 0px 1px 3px 1px rgba(60, 64, 67, 0.15);\n",
              "      fill: #174EA6;\n",
              "    }\n",
              "\n",
              "    [theme=dark] .colab-df-convert {\n",
              "      background-color: #3B4455;\n",
              "      fill: #D2E3FC;\n",
              "    }\n",
              "\n",
              "    [theme=dark] .colab-df-convert:hover {\n",
              "      background-color: #434B5C;\n",
              "      box-shadow: 0px 1px 3px 1px rgba(0, 0, 0, 0.15);\n",
              "      filter: drop-shadow(0px 1px 2px rgba(0, 0, 0, 0.3));\n",
              "      fill: #FFFFFF;\n",
              "    }\n",
              "  </style>\n",
              "\n",
              "      <script>\n",
              "        const buttonEl =\n",
              "          document.querySelector('#df-6358ce90-d1a3-4f84-9d94-cf25d9129bbc button.colab-df-convert');\n",
              "        buttonEl.style.display =\n",
              "          google.colab.kernel.accessAllowed ? 'block' : 'none';\n",
              "\n",
              "        async function convertToInteractive(key) {\n",
              "          const element = document.querySelector('#df-6358ce90-d1a3-4f84-9d94-cf25d9129bbc');\n",
              "          const dataTable =\n",
              "            await google.colab.kernel.invokeFunction('convertToInteractive',\n",
              "                                                     [key], {});\n",
              "          if (!dataTable) return;\n",
              "\n",
              "          const docLinkHtml = 'Like what you see? Visit the ' +\n",
              "            '<a target=\"_blank\" href=https://colab.research.google.com/notebooks/data_table.ipynb>data table notebook</a>'\n",
              "            + ' to learn more about interactive tables.';\n",
              "          element.innerHTML = '';\n",
              "          dataTable['output_type'] = 'display_data';\n",
              "          await google.colab.output.renderOutput(dataTable, element);\n",
              "          const docLink = document.createElement('div');\n",
              "          docLink.innerHTML = docLinkHtml;\n",
              "          element.appendChild(docLink);\n",
              "        }\n",
              "      </script>\n",
              "    </div>\n",
              "  </div>\n",
              "  "
            ]
          },
          "metadata": {},
          "execution_count": 14
        }
      ]
    },
    {
      "cell_type": "markdown",
      "source": [
        "### checking the data"
      ],
      "metadata": {
        "id": "ETQJJgMEFJKS"
      }
    },
    {
      "cell_type": "code",
      "source": [
        "# 300 -> 169 records, 131 incomplete records dropped\n",
        "len(raw_df),len(pre_encoding_df)"
      ],
      "metadata": {
        "colab": {
          "base_uri": "https://localhost:8080/"
        },
        "id": "gUgIYJmOExDS",
        "outputId": "63fab744-27bb-46dd-ad73-4c513f375f3c"
      },
      "execution_count": null,
      "outputs": [
        {
          "output_type": "execute_result",
          "data": {
            "text/plain": [
              "(300, 169)"
            ]
          },
          "metadata": {},
          "execution_count": 15
        }
      ]
    },
    {
      "cell_type": "code",
      "source": [
        "# 38 -> 19 preterm records\n",
        "len(raw_df[raw_df['Gestation'] < 37]), len(pre_encoding_df[pre_encoding_df['Gestation'] < 37]),"
      ],
      "metadata": {
        "colab": {
          "base_uri": "https://localhost:8080/"
        },
        "id": "vHvUmqTXExGm",
        "outputId": "fd6f4265-8bfb-4918-d3ae-87eb63190b76"
      },
      "execution_count": null,
      "outputs": [
        {
          "output_type": "execute_result",
          "data": {
            "text/plain": [
              "(38, 19)"
            ]
          },
          "metadata": {},
          "execution_count": 16
        }
      ]
    },
    {
      "cell_type": "markdown",
      "source": [
        "## Encoding Strategy: Ordinal Variables\n",
        "assigning each feature to a number in a series (1,2,3...) with sklearn.preprocessing\n",
        "\n",
        "replace text with numbers:\n",
        "\n",
        "- no: 0\n",
        "- yes: 1\n",
        "- front:1\n",
        "- end: 0\n",
        "- negative: 0\n",
        "- positive: 1"
      ],
      "metadata": {
        "id": "vElHT_0bFU-v"
      }
    },
    {
      "cell_type": "markdown",
      "source": [
        "check the unique values for each category"
      ],
      "metadata": {
        "id": "uo0jDRJ1FgiL"
      }
    },
    {
      "cell_type": "code",
      "source": [
        "CATEGORICAL_FEATURES = [\n",
        "'Hypertension',\n",
        "'Diabetes',\n",
        "'Placental_position',\n",
        "'Bleeding_first_trimester',\n",
        "'Bleeding_second_trimester',\n",
        "'Funneling',\n",
        "'Smoker'\n",
        "]\n",
        "unique_categorical_values = []\n",
        "for feature in CATEGORICAL_FEATURES:\n",
        "    unique_categorical_values.append(pre_encoding_df['{}'.format(feature)].unique())\n",
        "unique_categorical_values"
      ],
      "metadata": {
        "colab": {
          "base_uri": "https://localhost:8080/"
        },
        "id": "Q7J0KdKOExJc",
        "outputId": "16ccd327-513e-4834-fcc9-99e71a34a704"
      },
      "execution_count": null,
      "outputs": [
        {
          "output_type": "execute_result",
          "data": {
            "text/plain": [
              "[array(['no', 'yes'], dtype=object),\n",
              " array(['no', 'yes'], dtype=object),\n",
              " array(['front', 'end'], dtype=object),\n",
              " array(['no', 'yes'], dtype=object),\n",
              " array(['no', 'yes'], dtype=object),\n",
              " array(['negative', 'positive'], dtype=object),\n",
              " array(['no', 'yes'], dtype=object)]"
            ]
          },
          "metadata": {},
          "execution_count": 17
        }
      ]
    },
    {
      "cell_type": "markdown",
      "source": [
        "map the unique categorical values to its corresponsing ordinal value"
      ],
      "metadata": {
        "id": "YK7aoATWFoB-"
      }
    },
    {
      "cell_type": "code",
      "source": [
        "ordinal_encoding_df = pre_encoding_df.copy()\n",
        "encoding_dict = {}\n",
        "for value in unique_categorical_values:\n",
        "    le = preprocessing.LabelEncoder()\n",
        "    le.fit(value)\n",
        "    vals = list(le.transform(value))\n",
        "    for i,j in zip(list(le.classes_), vals):\n",
        "        encoding_dict[i] = vals[j]\n",
        "encoding_dict"
      ],
      "metadata": {
        "colab": {
          "base_uri": "https://localhost:8080/"
        },
        "id": "GXkHi4ycExSj",
        "outputId": "1f890e98-b28a-4647-cde7-9f5d8427dc89"
      },
      "execution_count": null,
      "outputs": [
        {
          "output_type": "execute_result",
          "data": {
            "text/plain": [
              "{'end': 0, 'front': 1, 'negative': 0, 'no': 0, 'positive': 1, 'yes': 1}"
            ]
          },
          "metadata": {},
          "execution_count": 18
        }
      ]
    },
    {
      "cell_type": "code",
      "source": [
        "for key in encoding_dict.keys():\n",
        "    ordinal_encoding_df.replace(key, encoding_dict[key], inplace=True)\n",
        "ordinal_encoding_df.head()"
      ],
      "metadata": {
        "colab": {
          "base_uri": "https://localhost:8080/",
          "height": 305
        },
        "id": "Z60jCFWZFpig",
        "outputId": "b857aa35-2c20-4b5f-cd74-ad5025085710"
      },
      "execution_count": null,
      "outputs": [
        {
          "output_type": "execute_result",
          "data": {
            "text/plain": [
              "   record_number  Gestation  Age  Parity  Abortions  Weight  Hypertension  \\\n",
              "0              0       35.0   30       0          0      58             0   \n",
              "1              3       37.1   27       0          1     100             0   \n",
              "2              4       38.6   28       0          2      72             0   \n",
              "3              5       38.9   30       0          0      64             0   \n",
              "4              6       40.3   37       1          1      79             0   \n",
              "\n",
              "   Diabetes  Placental_position  Bleeding_first_trimester  \\\n",
              "0         0                   1                         0   \n",
              "1         0                   1                         0   \n",
              "2         0                   1                         0   \n",
              "3         0                   0                         1   \n",
              "4         0                   0                         0   \n",
              "\n",
              "   Bleeding_second_trimester  Funneling  Smoker  Root Mean Square  \\\n",
              "0                          0          0       0           27.9148   \n",
              "1                          0          0       0            7.5545   \n",
              "2                          0          0       0           12.7331   \n",
              "3                          0          0       0            8.4929   \n",
              "4                          0          0       0           14.9220   \n",
              "\n",
              "   Median Frequency  Peak Frequency  Sample Entropy  \n",
              "0            0.3109          0.3159           0.502  \n",
              "1            0.1750          0.1522           0.732  \n",
              "2            0.1816          0.1816           0.817  \n",
              "3            0.3059          0.3402           0.747  \n",
              "4            0.1294          0.1144           0.499  "
            ],
            "text/html": [
              "\n",
              "  <div id=\"df-7fb25f59-a9a6-4e36-89ac-737d82702852\">\n",
              "    <div class=\"colab-df-container\">\n",
              "      <div>\n",
              "<style scoped>\n",
              "    .dataframe tbody tr th:only-of-type {\n",
              "        vertical-align: middle;\n",
              "    }\n",
              "\n",
              "    .dataframe tbody tr th {\n",
              "        vertical-align: top;\n",
              "    }\n",
              "\n",
              "    .dataframe thead th {\n",
              "        text-align: right;\n",
              "    }\n",
              "</style>\n",
              "<table border=\"1\" class=\"dataframe\">\n",
              "  <thead>\n",
              "    <tr style=\"text-align: right;\">\n",
              "      <th></th>\n",
              "      <th>record_number</th>\n",
              "      <th>Gestation</th>\n",
              "      <th>Age</th>\n",
              "      <th>Parity</th>\n",
              "      <th>Abortions</th>\n",
              "      <th>Weight</th>\n",
              "      <th>Hypertension</th>\n",
              "      <th>Diabetes</th>\n",
              "      <th>Placental_position</th>\n",
              "      <th>Bleeding_first_trimester</th>\n",
              "      <th>Bleeding_second_trimester</th>\n",
              "      <th>Funneling</th>\n",
              "      <th>Smoker</th>\n",
              "      <th>Root Mean Square</th>\n",
              "      <th>Median Frequency</th>\n",
              "      <th>Peak Frequency</th>\n",
              "      <th>Sample Entropy</th>\n",
              "    </tr>\n",
              "  </thead>\n",
              "  <tbody>\n",
              "    <tr>\n",
              "      <th>0</th>\n",
              "      <td>0</td>\n",
              "      <td>35.0</td>\n",
              "      <td>30</td>\n",
              "      <td>0</td>\n",
              "      <td>0</td>\n",
              "      <td>58</td>\n",
              "      <td>0</td>\n",
              "      <td>0</td>\n",
              "      <td>1</td>\n",
              "      <td>0</td>\n",
              "      <td>0</td>\n",
              "      <td>0</td>\n",
              "      <td>0</td>\n",
              "      <td>27.9148</td>\n",
              "      <td>0.3109</td>\n",
              "      <td>0.3159</td>\n",
              "      <td>0.502</td>\n",
              "    </tr>\n",
              "    <tr>\n",
              "      <th>1</th>\n",
              "      <td>3</td>\n",
              "      <td>37.1</td>\n",
              "      <td>27</td>\n",
              "      <td>0</td>\n",
              "      <td>1</td>\n",
              "      <td>100</td>\n",
              "      <td>0</td>\n",
              "      <td>0</td>\n",
              "      <td>1</td>\n",
              "      <td>0</td>\n",
              "      <td>0</td>\n",
              "      <td>0</td>\n",
              "      <td>0</td>\n",
              "      <td>7.5545</td>\n",
              "      <td>0.1750</td>\n",
              "      <td>0.1522</td>\n",
              "      <td>0.732</td>\n",
              "    </tr>\n",
              "    <tr>\n",
              "      <th>2</th>\n",
              "      <td>4</td>\n",
              "      <td>38.6</td>\n",
              "      <td>28</td>\n",
              "      <td>0</td>\n",
              "      <td>2</td>\n",
              "      <td>72</td>\n",
              "      <td>0</td>\n",
              "      <td>0</td>\n",
              "      <td>1</td>\n",
              "      <td>0</td>\n",
              "      <td>0</td>\n",
              "      <td>0</td>\n",
              "      <td>0</td>\n",
              "      <td>12.7331</td>\n",
              "      <td>0.1816</td>\n",
              "      <td>0.1816</td>\n",
              "      <td>0.817</td>\n",
              "    </tr>\n",
              "    <tr>\n",
              "      <th>3</th>\n",
              "      <td>5</td>\n",
              "      <td>38.9</td>\n",
              "      <td>30</td>\n",
              "      <td>0</td>\n",
              "      <td>0</td>\n",
              "      <td>64</td>\n",
              "      <td>0</td>\n",
              "      <td>0</td>\n",
              "      <td>0</td>\n",
              "      <td>1</td>\n",
              "      <td>0</td>\n",
              "      <td>0</td>\n",
              "      <td>0</td>\n",
              "      <td>8.4929</td>\n",
              "      <td>0.3059</td>\n",
              "      <td>0.3402</td>\n",
              "      <td>0.747</td>\n",
              "    </tr>\n",
              "    <tr>\n",
              "      <th>4</th>\n",
              "      <td>6</td>\n",
              "      <td>40.3</td>\n",
              "      <td>37</td>\n",
              "      <td>1</td>\n",
              "      <td>1</td>\n",
              "      <td>79</td>\n",
              "      <td>0</td>\n",
              "      <td>0</td>\n",
              "      <td>0</td>\n",
              "      <td>0</td>\n",
              "      <td>0</td>\n",
              "      <td>0</td>\n",
              "      <td>0</td>\n",
              "      <td>14.9220</td>\n",
              "      <td>0.1294</td>\n",
              "      <td>0.1144</td>\n",
              "      <td>0.499</td>\n",
              "    </tr>\n",
              "  </tbody>\n",
              "</table>\n",
              "</div>\n",
              "      <button class=\"colab-df-convert\" onclick=\"convertToInteractive('df-7fb25f59-a9a6-4e36-89ac-737d82702852')\"\n",
              "              title=\"Convert this dataframe to an interactive table.\"\n",
              "              style=\"display:none;\">\n",
              "        \n",
              "  <svg xmlns=\"http://www.w3.org/2000/svg\" height=\"24px\"viewBox=\"0 0 24 24\"\n",
              "       width=\"24px\">\n",
              "    <path d=\"M0 0h24v24H0V0z\" fill=\"none\"/>\n",
              "    <path d=\"M18.56 5.44l.94 2.06.94-2.06 2.06-.94-2.06-.94-.94-2.06-.94 2.06-2.06.94zm-11 1L8.5 8.5l.94-2.06 2.06-.94-2.06-.94L8.5 2.5l-.94 2.06-2.06.94zm10 10l.94 2.06.94-2.06 2.06-.94-2.06-.94-.94-2.06-.94 2.06-2.06.94z\"/><path d=\"M17.41 7.96l-1.37-1.37c-.4-.4-.92-.59-1.43-.59-.52 0-1.04.2-1.43.59L10.3 9.45l-7.72 7.72c-.78.78-.78 2.05 0 2.83L4 21.41c.39.39.9.59 1.41.59.51 0 1.02-.2 1.41-.59l7.78-7.78 2.81-2.81c.8-.78.8-2.07 0-2.86zM5.41 20L4 18.59l7.72-7.72 1.47 1.35L5.41 20z\"/>\n",
              "  </svg>\n",
              "      </button>\n",
              "      \n",
              "  <style>\n",
              "    .colab-df-container {\n",
              "      display:flex;\n",
              "      flex-wrap:wrap;\n",
              "      gap: 12px;\n",
              "    }\n",
              "\n",
              "    .colab-df-convert {\n",
              "      background-color: #E8F0FE;\n",
              "      border: none;\n",
              "      border-radius: 50%;\n",
              "      cursor: pointer;\n",
              "      display: none;\n",
              "      fill: #1967D2;\n",
              "      height: 32px;\n",
              "      padding: 0 0 0 0;\n",
              "      width: 32px;\n",
              "    }\n",
              "\n",
              "    .colab-df-convert:hover {\n",
              "      background-color: #E2EBFA;\n",
              "      box-shadow: 0px 1px 2px rgba(60, 64, 67, 0.3), 0px 1px 3px 1px rgba(60, 64, 67, 0.15);\n",
              "      fill: #174EA6;\n",
              "    }\n",
              "\n",
              "    [theme=dark] .colab-df-convert {\n",
              "      background-color: #3B4455;\n",
              "      fill: #D2E3FC;\n",
              "    }\n",
              "\n",
              "    [theme=dark] .colab-df-convert:hover {\n",
              "      background-color: #434B5C;\n",
              "      box-shadow: 0px 1px 3px 1px rgba(0, 0, 0, 0.15);\n",
              "      filter: drop-shadow(0px 1px 2px rgba(0, 0, 0, 0.3));\n",
              "      fill: #FFFFFF;\n",
              "    }\n",
              "  </style>\n",
              "\n",
              "      <script>\n",
              "        const buttonEl =\n",
              "          document.querySelector('#df-7fb25f59-a9a6-4e36-89ac-737d82702852 button.colab-df-convert');\n",
              "        buttonEl.style.display =\n",
              "          google.colab.kernel.accessAllowed ? 'block' : 'none';\n",
              "\n",
              "        async function convertToInteractive(key) {\n",
              "          const element = document.querySelector('#df-7fb25f59-a9a6-4e36-89ac-737d82702852');\n",
              "          const dataTable =\n",
              "            await google.colab.kernel.invokeFunction('convertToInteractive',\n",
              "                                                     [key], {});\n",
              "          if (!dataTable) return;\n",
              "\n",
              "          const docLinkHtml = 'Like what you see? Visit the ' +\n",
              "            '<a target=\"_blank\" href=https://colab.research.google.com/notebooks/data_table.ipynb>data table notebook</a>'\n",
              "            + ' to learn more about interactive tables.';\n",
              "          element.innerHTML = '';\n",
              "          dataTable['output_type'] = 'display_data';\n",
              "          await google.colab.output.renderOutput(dataTable, element);\n",
              "          const docLink = document.createElement('div');\n",
              "          docLink.innerHTML = docLinkHtml;\n",
              "          element.appendChild(docLink);\n",
              "        }\n",
              "      </script>\n",
              "    </div>\n",
              "  </div>\n",
              "  "
            ]
          },
          "metadata": {},
          "execution_count": 19
        }
      ]
    },
    {
      "cell_type": "markdown",
      "source": [
        "check the data types before writing to csv file"
      ],
      "metadata": {
        "id": "yzwjz_oTFzVX"
      }
    },
    {
      "cell_type": "code",
      "source": [
        "ordinal_encoding_df.dtypes"
      ],
      "metadata": {
        "colab": {
          "base_uri": "https://localhost:8080/"
        },
        "id": "8E6zeYfWFpln",
        "outputId": "0424c457-9d4c-4e69-baf3-f5818609f0e0"
      },
      "execution_count": null,
      "outputs": [
        {
          "output_type": "execute_result",
          "data": {
            "text/plain": [
              "record_number                  int64\n",
              "Gestation                    float64\n",
              "Age                            int64\n",
              "Parity                         int64\n",
              "Abortions                      int64\n",
              "Weight                         int64\n",
              "Hypertension                   int64\n",
              "Diabetes                       int64\n",
              "Placental_position             int64\n",
              "Bleeding_first_trimester       int64\n",
              "Bleeding_second_trimester      int64\n",
              "Funneling                      int64\n",
              "Smoker                         int64\n",
              "Root Mean Square             float64\n",
              "Median Frequency             float64\n",
              "Peak Frequency               float64\n",
              "Sample Entropy               float64\n",
              "dtype: object"
            ]
          },
          "metadata": {},
          "execution_count": 20
        }
      ]
    },
    {
      "cell_type": "markdown",
      "source": [
        "## Output csv file\n",
        "imbalanced dataset:\n",
        "with 19 perterm records and 150 term records"
      ],
      "metadata": {
        "id": "XOtt0IOXF7ao"
      }
    },
    {
      "cell_type": "code",
      "source": [
        "ordinal_encoding_df.to_csv('ordinal_encoding.csv', index=False)\n",
        "test = pd.read_csv('ordinal_encoding.csv')\n",
        "test.head()"
      ],
      "metadata": {
        "colab": {
          "base_uri": "https://localhost:8080/",
          "height": 305
        },
        "id": "YBd2XM5AFppD",
        "outputId": "3dbbbf68-3033-4aa6-b7b5-91ced48621b8"
      },
      "execution_count": null,
      "outputs": [
        {
          "output_type": "execute_result",
          "data": {
            "text/plain": [
              "   record_number  Gestation  Age  Parity  Abortions  Weight  Hypertension  \\\n",
              "0              0       35.0   30       0          0      58             0   \n",
              "1              3       37.1   27       0          1     100             0   \n",
              "2              4       38.6   28       0          2      72             0   \n",
              "3              5       38.9   30       0          0      64             0   \n",
              "4              6       40.3   37       1          1      79             0   \n",
              "\n",
              "   Diabetes  Placental_position  Bleeding_first_trimester  \\\n",
              "0         0                   1                         0   \n",
              "1         0                   1                         0   \n",
              "2         0                   1                         0   \n",
              "3         0                   0                         1   \n",
              "4         0                   0                         0   \n",
              "\n",
              "   Bleeding_second_trimester  Funneling  Smoker  Root Mean Square  \\\n",
              "0                          0          0       0           27.9148   \n",
              "1                          0          0       0            7.5545   \n",
              "2                          0          0       0           12.7331   \n",
              "3                          0          0       0            8.4929   \n",
              "4                          0          0       0           14.9220   \n",
              "\n",
              "   Median Frequency  Peak Frequency  Sample Entropy  \n",
              "0            0.3109          0.3159           0.502  \n",
              "1            0.1750          0.1522           0.732  \n",
              "2            0.1816          0.1816           0.817  \n",
              "3            0.3059          0.3402           0.747  \n",
              "4            0.1294          0.1144           0.499  "
            ],
            "text/html": [
              "\n",
              "  <div id=\"df-cbfb7a71-dbef-4812-a384-535190a605f1\">\n",
              "    <div class=\"colab-df-container\">\n",
              "      <div>\n",
              "<style scoped>\n",
              "    .dataframe tbody tr th:only-of-type {\n",
              "        vertical-align: middle;\n",
              "    }\n",
              "\n",
              "    .dataframe tbody tr th {\n",
              "        vertical-align: top;\n",
              "    }\n",
              "\n",
              "    .dataframe thead th {\n",
              "        text-align: right;\n",
              "    }\n",
              "</style>\n",
              "<table border=\"1\" class=\"dataframe\">\n",
              "  <thead>\n",
              "    <tr style=\"text-align: right;\">\n",
              "      <th></th>\n",
              "      <th>record_number</th>\n",
              "      <th>Gestation</th>\n",
              "      <th>Age</th>\n",
              "      <th>Parity</th>\n",
              "      <th>Abortions</th>\n",
              "      <th>Weight</th>\n",
              "      <th>Hypertension</th>\n",
              "      <th>Diabetes</th>\n",
              "      <th>Placental_position</th>\n",
              "      <th>Bleeding_first_trimester</th>\n",
              "      <th>Bleeding_second_trimester</th>\n",
              "      <th>Funneling</th>\n",
              "      <th>Smoker</th>\n",
              "      <th>Root Mean Square</th>\n",
              "      <th>Median Frequency</th>\n",
              "      <th>Peak Frequency</th>\n",
              "      <th>Sample Entropy</th>\n",
              "    </tr>\n",
              "  </thead>\n",
              "  <tbody>\n",
              "    <tr>\n",
              "      <th>0</th>\n",
              "      <td>0</td>\n",
              "      <td>35.0</td>\n",
              "      <td>30</td>\n",
              "      <td>0</td>\n",
              "      <td>0</td>\n",
              "      <td>58</td>\n",
              "      <td>0</td>\n",
              "      <td>0</td>\n",
              "      <td>1</td>\n",
              "      <td>0</td>\n",
              "      <td>0</td>\n",
              "      <td>0</td>\n",
              "      <td>0</td>\n",
              "      <td>27.9148</td>\n",
              "      <td>0.3109</td>\n",
              "      <td>0.3159</td>\n",
              "      <td>0.502</td>\n",
              "    </tr>\n",
              "    <tr>\n",
              "      <th>1</th>\n",
              "      <td>3</td>\n",
              "      <td>37.1</td>\n",
              "      <td>27</td>\n",
              "      <td>0</td>\n",
              "      <td>1</td>\n",
              "      <td>100</td>\n",
              "      <td>0</td>\n",
              "      <td>0</td>\n",
              "      <td>1</td>\n",
              "      <td>0</td>\n",
              "      <td>0</td>\n",
              "      <td>0</td>\n",
              "      <td>0</td>\n",
              "      <td>7.5545</td>\n",
              "      <td>0.1750</td>\n",
              "      <td>0.1522</td>\n",
              "      <td>0.732</td>\n",
              "    </tr>\n",
              "    <tr>\n",
              "      <th>2</th>\n",
              "      <td>4</td>\n",
              "      <td>38.6</td>\n",
              "      <td>28</td>\n",
              "      <td>0</td>\n",
              "      <td>2</td>\n",
              "      <td>72</td>\n",
              "      <td>0</td>\n",
              "      <td>0</td>\n",
              "      <td>1</td>\n",
              "      <td>0</td>\n",
              "      <td>0</td>\n",
              "      <td>0</td>\n",
              "      <td>0</td>\n",
              "      <td>12.7331</td>\n",
              "      <td>0.1816</td>\n",
              "      <td>0.1816</td>\n",
              "      <td>0.817</td>\n",
              "    </tr>\n",
              "    <tr>\n",
              "      <th>3</th>\n",
              "      <td>5</td>\n",
              "      <td>38.9</td>\n",
              "      <td>30</td>\n",
              "      <td>0</td>\n",
              "      <td>0</td>\n",
              "      <td>64</td>\n",
              "      <td>0</td>\n",
              "      <td>0</td>\n",
              "      <td>0</td>\n",
              "      <td>1</td>\n",
              "      <td>0</td>\n",
              "      <td>0</td>\n",
              "      <td>0</td>\n",
              "      <td>8.4929</td>\n",
              "      <td>0.3059</td>\n",
              "      <td>0.3402</td>\n",
              "      <td>0.747</td>\n",
              "    </tr>\n",
              "    <tr>\n",
              "      <th>4</th>\n",
              "      <td>6</td>\n",
              "      <td>40.3</td>\n",
              "      <td>37</td>\n",
              "      <td>1</td>\n",
              "      <td>1</td>\n",
              "      <td>79</td>\n",
              "      <td>0</td>\n",
              "      <td>0</td>\n",
              "      <td>0</td>\n",
              "      <td>0</td>\n",
              "      <td>0</td>\n",
              "      <td>0</td>\n",
              "      <td>0</td>\n",
              "      <td>14.9220</td>\n",
              "      <td>0.1294</td>\n",
              "      <td>0.1144</td>\n",
              "      <td>0.499</td>\n",
              "    </tr>\n",
              "  </tbody>\n",
              "</table>\n",
              "</div>\n",
              "      <button class=\"colab-df-convert\" onclick=\"convertToInteractive('df-cbfb7a71-dbef-4812-a384-535190a605f1')\"\n",
              "              title=\"Convert this dataframe to an interactive table.\"\n",
              "              style=\"display:none;\">\n",
              "        \n",
              "  <svg xmlns=\"http://www.w3.org/2000/svg\" height=\"24px\"viewBox=\"0 0 24 24\"\n",
              "       width=\"24px\">\n",
              "    <path d=\"M0 0h24v24H0V0z\" fill=\"none\"/>\n",
              "    <path d=\"M18.56 5.44l.94 2.06.94-2.06 2.06-.94-2.06-.94-.94-2.06-.94 2.06-2.06.94zm-11 1L8.5 8.5l.94-2.06 2.06-.94-2.06-.94L8.5 2.5l-.94 2.06-2.06.94zm10 10l.94 2.06.94-2.06 2.06-.94-2.06-.94-.94-2.06-.94 2.06-2.06.94z\"/><path d=\"M17.41 7.96l-1.37-1.37c-.4-.4-.92-.59-1.43-.59-.52 0-1.04.2-1.43.59L10.3 9.45l-7.72 7.72c-.78.78-.78 2.05 0 2.83L4 21.41c.39.39.9.59 1.41.59.51 0 1.02-.2 1.41-.59l7.78-7.78 2.81-2.81c.8-.78.8-2.07 0-2.86zM5.41 20L4 18.59l7.72-7.72 1.47 1.35L5.41 20z\"/>\n",
              "  </svg>\n",
              "      </button>\n",
              "      \n",
              "  <style>\n",
              "    .colab-df-container {\n",
              "      display:flex;\n",
              "      flex-wrap:wrap;\n",
              "      gap: 12px;\n",
              "    }\n",
              "\n",
              "    .colab-df-convert {\n",
              "      background-color: #E8F0FE;\n",
              "      border: none;\n",
              "      border-radius: 50%;\n",
              "      cursor: pointer;\n",
              "      display: none;\n",
              "      fill: #1967D2;\n",
              "      height: 32px;\n",
              "      padding: 0 0 0 0;\n",
              "      width: 32px;\n",
              "    }\n",
              "\n",
              "    .colab-df-convert:hover {\n",
              "      background-color: #E2EBFA;\n",
              "      box-shadow: 0px 1px 2px rgba(60, 64, 67, 0.3), 0px 1px 3px 1px rgba(60, 64, 67, 0.15);\n",
              "      fill: #174EA6;\n",
              "    }\n",
              "\n",
              "    [theme=dark] .colab-df-convert {\n",
              "      background-color: #3B4455;\n",
              "      fill: #D2E3FC;\n",
              "    }\n",
              "\n",
              "    [theme=dark] .colab-df-convert:hover {\n",
              "      background-color: #434B5C;\n",
              "      box-shadow: 0px 1px 3px 1px rgba(0, 0, 0, 0.15);\n",
              "      filter: drop-shadow(0px 1px 2px rgba(0, 0, 0, 0.3));\n",
              "      fill: #FFFFFF;\n",
              "    }\n",
              "  </style>\n",
              "\n",
              "      <script>\n",
              "        const buttonEl =\n",
              "          document.querySelector('#df-cbfb7a71-dbef-4812-a384-535190a605f1 button.colab-df-convert');\n",
              "        buttonEl.style.display =\n",
              "          google.colab.kernel.accessAllowed ? 'block' : 'none';\n",
              "\n",
              "        async function convertToInteractive(key) {\n",
              "          const element = document.querySelector('#df-cbfb7a71-dbef-4812-a384-535190a605f1');\n",
              "          const dataTable =\n",
              "            await google.colab.kernel.invokeFunction('convertToInteractive',\n",
              "                                                     [key], {});\n",
              "          if (!dataTable) return;\n",
              "\n",
              "          const docLinkHtml = 'Like what you see? Visit the ' +\n",
              "            '<a target=\"_blank\" href=https://colab.research.google.com/notebooks/data_table.ipynb>data table notebook</a>'\n",
              "            + ' to learn more about interactive tables.';\n",
              "          element.innerHTML = '';\n",
              "          dataTable['output_type'] = 'display_data';\n",
              "          await google.colab.output.renderOutput(dataTable, element);\n",
              "          const docLink = document.createElement('div');\n",
              "          docLink.innerHTML = docLinkHtml;\n",
              "          element.appendChild(docLink);\n",
              "        }\n",
              "      </script>\n",
              "    </div>\n",
              "  </div>\n",
              "  "
            ]
          },
          "metadata": {},
          "execution_count": 21
        }
      ]
    },
    {
      "cell_type": "code",
      "source": [],
      "metadata": {
        "id": "lJxXfa5gFpsA"
      },
      "execution_count": null,
      "outputs": []
    },
    {
      "cell_type": "markdown",
      "source": [
        "DATA EXPLORATION"
      ],
      "metadata": {
        "id": "U3LKazl4GR-Z"
      }
    },
    {
      "cell_type": "code",
      "source": [
        "import pandas as pd\n",
        "import numpy as np\n",
        "import matplotlib.pyplot as plt\n",
        "%matplotlib inline"
      ],
      "metadata": {
        "id": "BTgZ3UYMFpuz"
      },
      "execution_count": null,
      "outputs": []
    },
    {
      "cell_type": "code",
      "source": [
        "df = pd.read_csv('ordinal_encoding.csv')\n",
        "preterm_df = df[df['Gestation'] < 37]\n",
        "term_df = df[df['Gestation'] >= 37]"
      ],
      "metadata": {
        "id": "SotwQuIxFpx4"
      },
      "execution_count": null,
      "outputs": []
    },
    {
      "cell_type": "code",
      "source": [
        "preterm_df.describe()"
      ],
      "metadata": {
        "colab": {
          "base_uri": "https://localhost:8080/",
          "height": 399
        },
        "id": "dVaEPTTUFp0x",
        "outputId": "b73d2783-305b-41d3-a95b-2e1d176f458a"
      },
      "execution_count": null,
      "outputs": [
        {
          "output_type": "execute_result",
          "data": {
            "text/plain": [
              "       record_number  Gestation        Age     Parity  Abortions     Weight  \\\n",
              "count      19.000000  19.000000  19.000000  19.000000  19.000000  19.000000   \n",
              "mean      143.789474  35.042105  28.631579   0.421053   0.421053  67.842105   \n",
              "std        72.981412   1.879810   4.449851   0.507257   0.768533   8.858537   \n",
              "min         0.000000  31.000000  20.000000   0.000000   0.000000  57.000000   \n",
              "25%       105.000000  34.500000  26.000000   0.000000   0.000000  59.500000   \n",
              "50%       120.000000  35.700000  28.000000   0.000000   0.000000  66.000000   \n",
              "75%       204.500000  36.400000  31.500000   1.000000   1.000000  73.500000   \n",
              "max       282.000000  36.700000  39.000000   1.000000   3.000000  84.000000   \n",
              "\n",
              "       Hypertension  Diabetes  Placental_position  Bleeding_first_trimester  \\\n",
              "count          19.0      19.0           19.000000                 19.000000   \n",
              "mean            0.0       0.0            0.631579                  0.105263   \n",
              "std             0.0       0.0            0.495595                  0.315302   \n",
              "min             0.0       0.0            0.000000                  0.000000   \n",
              "25%             0.0       0.0            0.000000                  0.000000   \n",
              "50%             0.0       0.0            1.000000                  0.000000   \n",
              "75%             0.0       0.0            1.000000                  0.000000   \n",
              "max             0.0       0.0            1.000000                  1.000000   \n",
              "\n",
              "       Bleeding_second_trimester  Funneling     Smoker  Root Mean Square  \\\n",
              "count                  19.000000  19.000000  19.000000         19.000000   \n",
              "mean                    0.105263   0.157895   0.052632         14.786300   \n",
              "std                     0.315302   0.374634   0.229416          6.932793   \n",
              "min                     0.000000   0.000000   0.000000          6.013000   \n",
              "25%                     0.000000   0.000000   0.000000         10.119100   \n",
              "50%                     0.000000   0.000000   0.000000         14.312800   \n",
              "75%                     0.000000   0.000000   0.000000         17.324000   \n",
              "max                     1.000000   1.000000   1.000000         29.463000   \n",
              "\n",
              "       Median Frequency  Peak Frequency  Sample Entropy  \n",
              "count         19.000000       19.000000       19.000000  \n",
              "mean           0.190489        0.141147        0.577632  \n",
              "std            0.050068        0.065094        0.214999  \n",
              "min            0.143800        0.081900        0.043000  \n",
              "25%            0.161450        0.103900        0.461000  \n",
              "50%            0.168800        0.117300        0.502000  \n",
              "75%            0.203600        0.158000        0.779500  \n",
              "max            0.317900        0.315900        0.866000  "
            ],
            "text/html": [
              "\n",
              "  <div id=\"df-1cbc2887-5fa3-4fe3-8f1a-478dffddaab2\">\n",
              "    <div class=\"colab-df-container\">\n",
              "      <div>\n",
              "<style scoped>\n",
              "    .dataframe tbody tr th:only-of-type {\n",
              "        vertical-align: middle;\n",
              "    }\n",
              "\n",
              "    .dataframe tbody tr th {\n",
              "        vertical-align: top;\n",
              "    }\n",
              "\n",
              "    .dataframe thead th {\n",
              "        text-align: right;\n",
              "    }\n",
              "</style>\n",
              "<table border=\"1\" class=\"dataframe\">\n",
              "  <thead>\n",
              "    <tr style=\"text-align: right;\">\n",
              "      <th></th>\n",
              "      <th>record_number</th>\n",
              "      <th>Gestation</th>\n",
              "      <th>Age</th>\n",
              "      <th>Parity</th>\n",
              "      <th>Abortions</th>\n",
              "      <th>Weight</th>\n",
              "      <th>Hypertension</th>\n",
              "      <th>Diabetes</th>\n",
              "      <th>Placental_position</th>\n",
              "      <th>Bleeding_first_trimester</th>\n",
              "      <th>Bleeding_second_trimester</th>\n",
              "      <th>Funneling</th>\n",
              "      <th>Smoker</th>\n",
              "      <th>Root Mean Square</th>\n",
              "      <th>Median Frequency</th>\n",
              "      <th>Peak Frequency</th>\n",
              "      <th>Sample Entropy</th>\n",
              "    </tr>\n",
              "  </thead>\n",
              "  <tbody>\n",
              "    <tr>\n",
              "      <th>count</th>\n",
              "      <td>19.000000</td>\n",
              "      <td>19.000000</td>\n",
              "      <td>19.000000</td>\n",
              "      <td>19.000000</td>\n",
              "      <td>19.000000</td>\n",
              "      <td>19.000000</td>\n",
              "      <td>19.0</td>\n",
              "      <td>19.0</td>\n",
              "      <td>19.000000</td>\n",
              "      <td>19.000000</td>\n",
              "      <td>19.000000</td>\n",
              "      <td>19.000000</td>\n",
              "      <td>19.000000</td>\n",
              "      <td>19.000000</td>\n",
              "      <td>19.000000</td>\n",
              "      <td>19.000000</td>\n",
              "      <td>19.000000</td>\n",
              "    </tr>\n",
              "    <tr>\n",
              "      <th>mean</th>\n",
              "      <td>143.789474</td>\n",
              "      <td>35.042105</td>\n",
              "      <td>28.631579</td>\n",
              "      <td>0.421053</td>\n",
              "      <td>0.421053</td>\n",
              "      <td>67.842105</td>\n",
              "      <td>0.0</td>\n",
              "      <td>0.0</td>\n",
              "      <td>0.631579</td>\n",
              "      <td>0.105263</td>\n",
              "      <td>0.105263</td>\n",
              "      <td>0.157895</td>\n",
              "      <td>0.052632</td>\n",
              "      <td>14.786300</td>\n",
              "      <td>0.190489</td>\n",
              "      <td>0.141147</td>\n",
              "      <td>0.577632</td>\n",
              "    </tr>\n",
              "    <tr>\n",
              "      <th>std</th>\n",
              "      <td>72.981412</td>\n",
              "      <td>1.879810</td>\n",
              "      <td>4.449851</td>\n",
              "      <td>0.507257</td>\n",
              "      <td>0.768533</td>\n",
              "      <td>8.858537</td>\n",
              "      <td>0.0</td>\n",
              "      <td>0.0</td>\n",
              "      <td>0.495595</td>\n",
              "      <td>0.315302</td>\n",
              "      <td>0.315302</td>\n",
              "      <td>0.374634</td>\n",
              "      <td>0.229416</td>\n",
              "      <td>6.932793</td>\n",
              "      <td>0.050068</td>\n",
              "      <td>0.065094</td>\n",
              "      <td>0.214999</td>\n",
              "    </tr>\n",
              "    <tr>\n",
              "      <th>min</th>\n",
              "      <td>0.000000</td>\n",
              "      <td>31.000000</td>\n",
              "      <td>20.000000</td>\n",
              "      <td>0.000000</td>\n",
              "      <td>0.000000</td>\n",
              "      <td>57.000000</td>\n",
              "      <td>0.0</td>\n",
              "      <td>0.0</td>\n",
              "      <td>0.000000</td>\n",
              "      <td>0.000000</td>\n",
              "      <td>0.000000</td>\n",
              "      <td>0.000000</td>\n",
              "      <td>0.000000</td>\n",
              "      <td>6.013000</td>\n",
              "      <td>0.143800</td>\n",
              "      <td>0.081900</td>\n",
              "      <td>0.043000</td>\n",
              "    </tr>\n",
              "    <tr>\n",
              "      <th>25%</th>\n",
              "      <td>105.000000</td>\n",
              "      <td>34.500000</td>\n",
              "      <td>26.000000</td>\n",
              "      <td>0.000000</td>\n",
              "      <td>0.000000</td>\n",
              "      <td>59.500000</td>\n",
              "      <td>0.0</td>\n",
              "      <td>0.0</td>\n",
              "      <td>0.000000</td>\n",
              "      <td>0.000000</td>\n",
              "      <td>0.000000</td>\n",
              "      <td>0.000000</td>\n",
              "      <td>0.000000</td>\n",
              "      <td>10.119100</td>\n",
              "      <td>0.161450</td>\n",
              "      <td>0.103900</td>\n",
              "      <td>0.461000</td>\n",
              "    </tr>\n",
              "    <tr>\n",
              "      <th>50%</th>\n",
              "      <td>120.000000</td>\n",
              "      <td>35.700000</td>\n",
              "      <td>28.000000</td>\n",
              "      <td>0.000000</td>\n",
              "      <td>0.000000</td>\n",
              "      <td>66.000000</td>\n",
              "      <td>0.0</td>\n",
              "      <td>0.0</td>\n",
              "      <td>1.000000</td>\n",
              "      <td>0.000000</td>\n",
              "      <td>0.000000</td>\n",
              "      <td>0.000000</td>\n",
              "      <td>0.000000</td>\n",
              "      <td>14.312800</td>\n",
              "      <td>0.168800</td>\n",
              "      <td>0.117300</td>\n",
              "      <td>0.502000</td>\n",
              "    </tr>\n",
              "    <tr>\n",
              "      <th>75%</th>\n",
              "      <td>204.500000</td>\n",
              "      <td>36.400000</td>\n",
              "      <td>31.500000</td>\n",
              "      <td>1.000000</td>\n",
              "      <td>1.000000</td>\n",
              "      <td>73.500000</td>\n",
              "      <td>0.0</td>\n",
              "      <td>0.0</td>\n",
              "      <td>1.000000</td>\n",
              "      <td>0.000000</td>\n",
              "      <td>0.000000</td>\n",
              "      <td>0.000000</td>\n",
              "      <td>0.000000</td>\n",
              "      <td>17.324000</td>\n",
              "      <td>0.203600</td>\n",
              "      <td>0.158000</td>\n",
              "      <td>0.779500</td>\n",
              "    </tr>\n",
              "    <tr>\n",
              "      <th>max</th>\n",
              "      <td>282.000000</td>\n",
              "      <td>36.700000</td>\n",
              "      <td>39.000000</td>\n",
              "      <td>1.000000</td>\n",
              "      <td>3.000000</td>\n",
              "      <td>84.000000</td>\n",
              "      <td>0.0</td>\n",
              "      <td>0.0</td>\n",
              "      <td>1.000000</td>\n",
              "      <td>1.000000</td>\n",
              "      <td>1.000000</td>\n",
              "      <td>1.000000</td>\n",
              "      <td>1.000000</td>\n",
              "      <td>29.463000</td>\n",
              "      <td>0.317900</td>\n",
              "      <td>0.315900</td>\n",
              "      <td>0.866000</td>\n",
              "    </tr>\n",
              "  </tbody>\n",
              "</table>\n",
              "</div>\n",
              "      <button class=\"colab-df-convert\" onclick=\"convertToInteractive('df-1cbc2887-5fa3-4fe3-8f1a-478dffddaab2')\"\n",
              "              title=\"Convert this dataframe to an interactive table.\"\n",
              "              style=\"display:none;\">\n",
              "        \n",
              "  <svg xmlns=\"http://www.w3.org/2000/svg\" height=\"24px\"viewBox=\"0 0 24 24\"\n",
              "       width=\"24px\">\n",
              "    <path d=\"M0 0h24v24H0V0z\" fill=\"none\"/>\n",
              "    <path d=\"M18.56 5.44l.94 2.06.94-2.06 2.06-.94-2.06-.94-.94-2.06-.94 2.06-2.06.94zm-11 1L8.5 8.5l.94-2.06 2.06-.94-2.06-.94L8.5 2.5l-.94 2.06-2.06.94zm10 10l.94 2.06.94-2.06 2.06-.94-2.06-.94-.94-2.06-.94 2.06-2.06.94z\"/><path d=\"M17.41 7.96l-1.37-1.37c-.4-.4-.92-.59-1.43-.59-.52 0-1.04.2-1.43.59L10.3 9.45l-7.72 7.72c-.78.78-.78 2.05 0 2.83L4 21.41c.39.39.9.59 1.41.59.51 0 1.02-.2 1.41-.59l7.78-7.78 2.81-2.81c.8-.78.8-2.07 0-2.86zM5.41 20L4 18.59l7.72-7.72 1.47 1.35L5.41 20z\"/>\n",
              "  </svg>\n",
              "      </button>\n",
              "      \n",
              "  <style>\n",
              "    .colab-df-container {\n",
              "      display:flex;\n",
              "      flex-wrap:wrap;\n",
              "      gap: 12px;\n",
              "    }\n",
              "\n",
              "    .colab-df-convert {\n",
              "      background-color: #E8F0FE;\n",
              "      border: none;\n",
              "      border-radius: 50%;\n",
              "      cursor: pointer;\n",
              "      display: none;\n",
              "      fill: #1967D2;\n",
              "      height: 32px;\n",
              "      padding: 0 0 0 0;\n",
              "      width: 32px;\n",
              "    }\n",
              "\n",
              "    .colab-df-convert:hover {\n",
              "      background-color: #E2EBFA;\n",
              "      box-shadow: 0px 1px 2px rgba(60, 64, 67, 0.3), 0px 1px 3px 1px rgba(60, 64, 67, 0.15);\n",
              "      fill: #174EA6;\n",
              "    }\n",
              "\n",
              "    [theme=dark] .colab-df-convert {\n",
              "      background-color: #3B4455;\n",
              "      fill: #D2E3FC;\n",
              "    }\n",
              "\n",
              "    [theme=dark] .colab-df-convert:hover {\n",
              "      background-color: #434B5C;\n",
              "      box-shadow: 0px 1px 3px 1px rgba(0, 0, 0, 0.15);\n",
              "      filter: drop-shadow(0px 1px 2px rgba(0, 0, 0, 0.3));\n",
              "      fill: #FFFFFF;\n",
              "    }\n",
              "  </style>\n",
              "\n",
              "      <script>\n",
              "        const buttonEl =\n",
              "          document.querySelector('#df-1cbc2887-5fa3-4fe3-8f1a-478dffddaab2 button.colab-df-convert');\n",
              "        buttonEl.style.display =\n",
              "          google.colab.kernel.accessAllowed ? 'block' : 'none';\n",
              "\n",
              "        async function convertToInteractive(key) {\n",
              "          const element = document.querySelector('#df-1cbc2887-5fa3-4fe3-8f1a-478dffddaab2');\n",
              "          const dataTable =\n",
              "            await google.colab.kernel.invokeFunction('convertToInteractive',\n",
              "                                                     [key], {});\n",
              "          if (!dataTable) return;\n",
              "\n",
              "          const docLinkHtml = 'Like what you see? Visit the ' +\n",
              "            '<a target=\"_blank\" href=https://colab.research.google.com/notebooks/data_table.ipynb>data table notebook</a>'\n",
              "            + ' to learn more about interactive tables.';\n",
              "          element.innerHTML = '';\n",
              "          dataTable['output_type'] = 'display_data';\n",
              "          await google.colab.output.renderOutput(dataTable, element);\n",
              "          const docLink = document.createElement('div');\n",
              "          docLink.innerHTML = docLinkHtml;\n",
              "          element.appendChild(docLink);\n",
              "        }\n",
              "      </script>\n",
              "    </div>\n",
              "  </div>\n",
              "  "
            ]
          },
          "metadata": {},
          "execution_count": 24
        }
      ]
    },
    {
      "cell_type": "code",
      "source": [
        "term_df.describe()"
      ],
      "metadata": {
        "colab": {
          "base_uri": "https://localhost:8080/",
          "height": 382
        },
        "id": "yg61GzPJFp3a",
        "outputId": "fc0e1fe5-ae10-4ed8-a0a5-e3eaa6d235df"
      },
      "execution_count": null,
      "outputs": [
        {
          "output_type": "execute_result",
          "data": {
            "text/plain": [
              "       record_number  Gestation         Age      Parity   Abortions  \\\n",
              "count     150.000000  150.00000  150.000000  150.000000  150.000000   \n",
              "mean      137.826667   39.53600   29.220000    0.493333    0.346667   \n",
              "std        86.273153    1.08345    4.769689    0.711805    0.685288   \n",
              "min         3.000000   37.00000   20.000000    0.000000    0.000000   \n",
              "25%        65.500000   38.90000   26.000000    0.000000    0.000000   \n",
              "50%       136.500000   39.70000   29.000000    0.000000    0.000000   \n",
              "75%       210.250000   40.30000   32.000000    1.000000    0.750000   \n",
              "max       299.000000   44.00000   43.000000    3.000000    3.000000   \n",
              "\n",
              "           Weight  Hypertension    Diabetes  Placental_position  \\\n",
              "count  150.000000    150.000000  150.000000          150.000000   \n",
              "mean    69.593333      0.013333    0.020000            0.526667   \n",
              "std      9.399484      0.115082    0.140469            0.500961   \n",
              "min     52.000000      0.000000    0.000000            0.000000   \n",
              "25%     63.000000      0.000000    0.000000            0.000000   \n",
              "50%     68.000000      0.000000    0.000000            1.000000   \n",
              "75%     75.000000      0.000000    0.000000            1.000000   \n",
              "max    103.000000      1.000000    1.000000            1.000000   \n",
              "\n",
              "       Bleeding_first_trimester  Bleeding_second_trimester   Funneling  \\\n",
              "count                150.000000                 150.000000  150.000000   \n",
              "mean                   0.153333                   0.026667    0.040000   \n",
              "std                    0.361516                   0.161647    0.196616   \n",
              "min                    0.000000                   0.000000    0.000000   \n",
              "25%                    0.000000                   0.000000    0.000000   \n",
              "50%                    0.000000                   0.000000    0.000000   \n",
              "75%                    0.000000                   0.000000    0.000000   \n",
              "max                    1.000000                   1.000000    1.000000   \n",
              "\n",
              "           Smoker  Root Mean Square  Median Frequency  Peak Frequency  \\\n",
              "count  150.000000        150.000000        150.000000      150.000000   \n",
              "mean     0.080000         14.015771          0.233055        0.161109   \n",
              "std      0.272202          8.458765          0.263282        0.243379   \n",
              "min      0.000000          2.531100          0.114900        0.084900   \n",
              "25%      0.000000          8.320250          0.155750        0.102100   \n",
              "50%      0.000000         12.621100          0.171450        0.112950   \n",
              "75%      0.000000         17.745850          0.201925        0.152100   \n",
              "max      1.000000         66.800200          2.118100        2.761800   \n",
              "\n",
              "       Sample Entropy  \n",
              "count      150.000000  \n",
              "mean         0.679040  \n",
              "std          0.157897  \n",
              "min          0.229000  \n",
              "25%          0.575000  \n",
              "50%          0.704000  \n",
              "75%          0.791500  \n",
              "max          0.981000  "
            ],
            "text/html": [
              "\n",
              "  <div id=\"df-fda7d8a0-95f0-46f5-8657-46b5cef9b7cd\">\n",
              "    <div class=\"colab-df-container\">\n",
              "      <div>\n",
              "<style scoped>\n",
              "    .dataframe tbody tr th:only-of-type {\n",
              "        vertical-align: middle;\n",
              "    }\n",
              "\n",
              "    .dataframe tbody tr th {\n",
              "        vertical-align: top;\n",
              "    }\n",
              "\n",
              "    .dataframe thead th {\n",
              "        text-align: right;\n",
              "    }\n",
              "</style>\n",
              "<table border=\"1\" class=\"dataframe\">\n",
              "  <thead>\n",
              "    <tr style=\"text-align: right;\">\n",
              "      <th></th>\n",
              "      <th>record_number</th>\n",
              "      <th>Gestation</th>\n",
              "      <th>Age</th>\n",
              "      <th>Parity</th>\n",
              "      <th>Abortions</th>\n",
              "      <th>Weight</th>\n",
              "      <th>Hypertension</th>\n",
              "      <th>Diabetes</th>\n",
              "      <th>Placental_position</th>\n",
              "      <th>Bleeding_first_trimester</th>\n",
              "      <th>Bleeding_second_trimester</th>\n",
              "      <th>Funneling</th>\n",
              "      <th>Smoker</th>\n",
              "      <th>Root Mean Square</th>\n",
              "      <th>Median Frequency</th>\n",
              "      <th>Peak Frequency</th>\n",
              "      <th>Sample Entropy</th>\n",
              "    </tr>\n",
              "  </thead>\n",
              "  <tbody>\n",
              "    <tr>\n",
              "      <th>count</th>\n",
              "      <td>150.000000</td>\n",
              "      <td>150.00000</td>\n",
              "      <td>150.000000</td>\n",
              "      <td>150.000000</td>\n",
              "      <td>150.000000</td>\n",
              "      <td>150.000000</td>\n",
              "      <td>150.000000</td>\n",
              "      <td>150.000000</td>\n",
              "      <td>150.000000</td>\n",
              "      <td>150.000000</td>\n",
              "      <td>150.000000</td>\n",
              "      <td>150.000000</td>\n",
              "      <td>150.000000</td>\n",
              "      <td>150.000000</td>\n",
              "      <td>150.000000</td>\n",
              "      <td>150.000000</td>\n",
              "      <td>150.000000</td>\n",
              "    </tr>\n",
              "    <tr>\n",
              "      <th>mean</th>\n",
              "      <td>137.826667</td>\n",
              "      <td>39.53600</td>\n",
              "      <td>29.220000</td>\n",
              "      <td>0.493333</td>\n",
              "      <td>0.346667</td>\n",
              "      <td>69.593333</td>\n",
              "      <td>0.013333</td>\n",
              "      <td>0.020000</td>\n",
              "      <td>0.526667</td>\n",
              "      <td>0.153333</td>\n",
              "      <td>0.026667</td>\n",
              "      <td>0.040000</td>\n",
              "      <td>0.080000</td>\n",
              "      <td>14.015771</td>\n",
              "      <td>0.233055</td>\n",
              "      <td>0.161109</td>\n",
              "      <td>0.679040</td>\n",
              "    </tr>\n",
              "    <tr>\n",
              "      <th>std</th>\n",
              "      <td>86.273153</td>\n",
              "      <td>1.08345</td>\n",
              "      <td>4.769689</td>\n",
              "      <td>0.711805</td>\n",
              "      <td>0.685288</td>\n",
              "      <td>9.399484</td>\n",
              "      <td>0.115082</td>\n",
              "      <td>0.140469</td>\n",
              "      <td>0.500961</td>\n",
              "      <td>0.361516</td>\n",
              "      <td>0.161647</td>\n",
              "      <td>0.196616</td>\n",
              "      <td>0.272202</td>\n",
              "      <td>8.458765</td>\n",
              "      <td>0.263282</td>\n",
              "      <td>0.243379</td>\n",
              "      <td>0.157897</td>\n",
              "    </tr>\n",
              "    <tr>\n",
              "      <th>min</th>\n",
              "      <td>3.000000</td>\n",
              "      <td>37.00000</td>\n",
              "      <td>20.000000</td>\n",
              "      <td>0.000000</td>\n",
              "      <td>0.000000</td>\n",
              "      <td>52.000000</td>\n",
              "      <td>0.000000</td>\n",
              "      <td>0.000000</td>\n",
              "      <td>0.000000</td>\n",
              "      <td>0.000000</td>\n",
              "      <td>0.000000</td>\n",
              "      <td>0.000000</td>\n",
              "      <td>0.000000</td>\n",
              "      <td>2.531100</td>\n",
              "      <td>0.114900</td>\n",
              "      <td>0.084900</td>\n",
              "      <td>0.229000</td>\n",
              "    </tr>\n",
              "    <tr>\n",
              "      <th>25%</th>\n",
              "      <td>65.500000</td>\n",
              "      <td>38.90000</td>\n",
              "      <td>26.000000</td>\n",
              "      <td>0.000000</td>\n",
              "      <td>0.000000</td>\n",
              "      <td>63.000000</td>\n",
              "      <td>0.000000</td>\n",
              "      <td>0.000000</td>\n",
              "      <td>0.000000</td>\n",
              "      <td>0.000000</td>\n",
              "      <td>0.000000</td>\n",
              "      <td>0.000000</td>\n",
              "      <td>0.000000</td>\n",
              "      <td>8.320250</td>\n",
              "      <td>0.155750</td>\n",
              "      <td>0.102100</td>\n",
              "      <td>0.575000</td>\n",
              "    </tr>\n",
              "    <tr>\n",
              "      <th>50%</th>\n",
              "      <td>136.500000</td>\n",
              "      <td>39.70000</td>\n",
              "      <td>29.000000</td>\n",
              "      <td>0.000000</td>\n",
              "      <td>0.000000</td>\n",
              "      <td>68.000000</td>\n",
              "      <td>0.000000</td>\n",
              "      <td>0.000000</td>\n",
              "      <td>1.000000</td>\n",
              "      <td>0.000000</td>\n",
              "      <td>0.000000</td>\n",
              "      <td>0.000000</td>\n",
              "      <td>0.000000</td>\n",
              "      <td>12.621100</td>\n",
              "      <td>0.171450</td>\n",
              "      <td>0.112950</td>\n",
              "      <td>0.704000</td>\n",
              "    </tr>\n",
              "    <tr>\n",
              "      <th>75%</th>\n",
              "      <td>210.250000</td>\n",
              "      <td>40.30000</td>\n",
              "      <td>32.000000</td>\n",
              "      <td>1.000000</td>\n",
              "      <td>0.750000</td>\n",
              "      <td>75.000000</td>\n",
              "      <td>0.000000</td>\n",
              "      <td>0.000000</td>\n",
              "      <td>1.000000</td>\n",
              "      <td>0.000000</td>\n",
              "      <td>0.000000</td>\n",
              "      <td>0.000000</td>\n",
              "      <td>0.000000</td>\n",
              "      <td>17.745850</td>\n",
              "      <td>0.201925</td>\n",
              "      <td>0.152100</td>\n",
              "      <td>0.791500</td>\n",
              "    </tr>\n",
              "    <tr>\n",
              "      <th>max</th>\n",
              "      <td>299.000000</td>\n",
              "      <td>44.00000</td>\n",
              "      <td>43.000000</td>\n",
              "      <td>3.000000</td>\n",
              "      <td>3.000000</td>\n",
              "      <td>103.000000</td>\n",
              "      <td>1.000000</td>\n",
              "      <td>1.000000</td>\n",
              "      <td>1.000000</td>\n",
              "      <td>1.000000</td>\n",
              "      <td>1.000000</td>\n",
              "      <td>1.000000</td>\n",
              "      <td>1.000000</td>\n",
              "      <td>66.800200</td>\n",
              "      <td>2.118100</td>\n",
              "      <td>2.761800</td>\n",
              "      <td>0.981000</td>\n",
              "    </tr>\n",
              "  </tbody>\n",
              "</table>\n",
              "</div>\n",
              "      <button class=\"colab-df-convert\" onclick=\"convertToInteractive('df-fda7d8a0-95f0-46f5-8657-46b5cef9b7cd')\"\n",
              "              title=\"Convert this dataframe to an interactive table.\"\n",
              "              style=\"display:none;\">\n",
              "        \n",
              "  <svg xmlns=\"http://www.w3.org/2000/svg\" height=\"24px\"viewBox=\"0 0 24 24\"\n",
              "       width=\"24px\">\n",
              "    <path d=\"M0 0h24v24H0V0z\" fill=\"none\"/>\n",
              "    <path d=\"M18.56 5.44l.94 2.06.94-2.06 2.06-.94-2.06-.94-.94-2.06-.94 2.06-2.06.94zm-11 1L8.5 8.5l.94-2.06 2.06-.94-2.06-.94L8.5 2.5l-.94 2.06-2.06.94zm10 10l.94 2.06.94-2.06 2.06-.94-2.06-.94-.94-2.06-.94 2.06-2.06.94z\"/><path d=\"M17.41 7.96l-1.37-1.37c-.4-.4-.92-.59-1.43-.59-.52 0-1.04.2-1.43.59L10.3 9.45l-7.72 7.72c-.78.78-.78 2.05 0 2.83L4 21.41c.39.39.9.59 1.41.59.51 0 1.02-.2 1.41-.59l7.78-7.78 2.81-2.81c.8-.78.8-2.07 0-2.86zM5.41 20L4 18.59l7.72-7.72 1.47 1.35L5.41 20z\"/>\n",
              "  </svg>\n",
              "      </button>\n",
              "      \n",
              "  <style>\n",
              "    .colab-df-container {\n",
              "      display:flex;\n",
              "      flex-wrap:wrap;\n",
              "      gap: 12px;\n",
              "    }\n",
              "\n",
              "    .colab-df-convert {\n",
              "      background-color: #E8F0FE;\n",
              "      border: none;\n",
              "      border-radius: 50%;\n",
              "      cursor: pointer;\n",
              "      display: none;\n",
              "      fill: #1967D2;\n",
              "      height: 32px;\n",
              "      padding: 0 0 0 0;\n",
              "      width: 32px;\n",
              "    }\n",
              "\n",
              "    .colab-df-convert:hover {\n",
              "      background-color: #E2EBFA;\n",
              "      box-shadow: 0px 1px 2px rgba(60, 64, 67, 0.3), 0px 1px 3px 1px rgba(60, 64, 67, 0.15);\n",
              "      fill: #174EA6;\n",
              "    }\n",
              "\n",
              "    [theme=dark] .colab-df-convert {\n",
              "      background-color: #3B4455;\n",
              "      fill: #D2E3FC;\n",
              "    }\n",
              "\n",
              "    [theme=dark] .colab-df-convert:hover {\n",
              "      background-color: #434B5C;\n",
              "      box-shadow: 0px 1px 3px 1px rgba(0, 0, 0, 0.15);\n",
              "      filter: drop-shadow(0px 1px 2px rgba(0, 0, 0, 0.3));\n",
              "      fill: #FFFFFF;\n",
              "    }\n",
              "  </style>\n",
              "\n",
              "      <script>\n",
              "        const buttonEl =\n",
              "          document.querySelector('#df-fda7d8a0-95f0-46f5-8657-46b5cef9b7cd button.colab-df-convert');\n",
              "        buttonEl.style.display =\n",
              "          google.colab.kernel.accessAllowed ? 'block' : 'none';\n",
              "\n",
              "        async function convertToInteractive(key) {\n",
              "          const element = document.querySelector('#df-fda7d8a0-95f0-46f5-8657-46b5cef9b7cd');\n",
              "          const dataTable =\n",
              "            await google.colab.kernel.invokeFunction('convertToInteractive',\n",
              "                                                     [key], {});\n",
              "          if (!dataTable) return;\n",
              "\n",
              "          const docLinkHtml = 'Like what you see? Visit the ' +\n",
              "            '<a target=\"_blank\" href=https://colab.research.google.com/notebooks/data_table.ipynb>data table notebook</a>'\n",
              "            + ' to learn more about interactive tables.';\n",
              "          element.innerHTML = '';\n",
              "          dataTable['output_type'] = 'display_data';\n",
              "          await google.colab.output.renderOutput(dataTable, element);\n",
              "          const docLink = document.createElement('div');\n",
              "          docLink.innerHTML = docLinkHtml;\n",
              "          element.appendChild(docLink);\n",
              "        }\n",
              "      </script>\n",
              "    </div>\n",
              "  </div>\n",
              "  "
            ]
          },
          "metadata": {},
          "execution_count": 25
        }
      ]
    },
    {
      "cell_type": "markdown",
      "source": [
        "transforming gestation period to label __run once__"
      ],
      "metadata": {
        "id": "waAsvm96Gmj8"
      }
    },
    {
      "cell_type": "code",
      "source": [
        "boolean_mask = pd.Series(df['Gestation'] < 37)\n",
        "df.loc[boolean_mask,'Gestation'] = 'preterm'\n",
        "inverted_boolean_mask = boolean_mask != True\n",
        "df.loc[inverted_boolean_mask,'Gestation'] = 'term'\n",
        "df['Gestation'].head()"
      ],
      "metadata": {
        "colab": {
          "base_uri": "https://localhost:8080/"
        },
        "id": "jHoKITpaGdjg",
        "outputId": "1f701b5a-6657-4dab-aecc-976b0647498c"
      },
      "execution_count": null,
      "outputs": [
        {
          "output_type": "execute_result",
          "data": {
            "text/plain": [
              "0    preterm\n",
              "1       term\n",
              "2       term\n",
              "3       term\n",
              "4       term\n",
              "Name: Gestation, dtype: object"
            ]
          },
          "metadata": {},
          "execution_count": 26
        }
      ]
    },
    {
      "cell_type": "markdown",
      "source": [
        "## ~~Principal Component Analysis\n",
        "A __linear feature extraction technique__:\n",
        "\n",
        "performs a linear mapping of the data to a lower-dimensionnal space, while maximizing the variance in the low-dimensional representation\n",
        "\n",
        "aka: drop the least important features. New features are independent of one another.\n",
        "\n",
        "Feature Extraction = __create new independent features__ that is a combination of each of the old independent features"
      ],
      "metadata": {
        "id": "t3zJoCbZG4li"
      }
    },
    {
      "cell_type": "code",
      "source": [
        "from sklearn.decomposition import PCA\n",
        "from sklearn.preprocessing import StandardScaler"
      ],
      "metadata": {
        "id": "NcEW_bQbGdnb"
      },
      "execution_count": null,
      "outputs": []
    },
    {
      "cell_type": "code",
      "source": [
        "FEATURES = [\n",
        "'Age',\n",
        "'Parity',\n",
        "'Abortions',\n",
        "'Weight',\n",
        "'Hypertension',\n",
        "'Diabetes',\n",
        "'Placental_position',\n",
        "'Bleeding_first_trimester',\n",
        "'Bleeding_second_trimester',\n",
        "'Funneling',\n",
        "'Smoker',\n",
        "'Root Mean Square',\n",
        "'Median Frequency',\n",
        "'Peak Frequency',\n",
        "'Sample Entropy'\n",
        "]"
      ],
      "metadata": {
        "id": "yQDF9r2jGdrD"
      },
      "execution_count": null,
      "outputs": []
    },
    {
      "cell_type": "code",
      "source": [
        "x = df.loc[:, FEATURES].values\n",
        "print(len(x[0]))\n",
        "y = df['Gestation']"
      ],
      "metadata": {
        "colab": {
          "base_uri": "https://localhost:8080/"
        },
        "id": "X5UaxrA6Fp6U",
        "outputId": "313e1cc9-8455-498a-bdb6-93c3a59866d0"
      },
      "execution_count": null,
      "outputs": [
        {
          "output_type": "stream",
          "name": "stdout",
          "text": [
            "15\n"
          ]
        }
      ]
    },
    {
      "cell_type": "code",
      "source": [
        "x = StandardScaler().fit_transform(x)\n",
        "x[0]"
      ],
      "metadata": {
        "colab": {
          "base_uri": "https://localhost:8080/"
        },
        "id": "ZuBOlBVAFp9C",
        "outputId": "84c7fffe-a1d1-4435-a0c9-3815a3a2fc0c"
      },
      "execution_count": null,
      "outputs": [
        {
          "output_type": "execute_result",
          "data": {
            "text/plain": [
              "array([ 0.17958137, -0.70428441, -0.51377848, -1.22493757, -0.10943513,\n",
              "       -0.13443321,  0.9258201 , -0.41666667, -0.19185884, -0.23717082,\n",
              "       -0.28867513,  1.67178688,  0.33302879,  0.68396403, -0.99111259])"
            ]
          },
          "metadata": {},
          "execution_count": 30
        }
      ]
    },
    {
      "cell_type": "code",
      "source": [],
      "metadata": {
        "id": "lrQk49HbFp_t"
      },
      "execution_count": null,
      "outputs": []
    },
    {
      "cell_type": "markdown",
      "source": [
        "### trying 2 dimensions\n",
        "it only covers 25% of the information, did not capture enough info"
      ],
      "metadata": {
        "id": "9QDbkcm5HL6I"
      }
    },
    {
      "cell_type": "code",
      "source": [
        "pca = PCA(n_components=2)\n",
        "principal_components = pca.fit_transform(x)\n",
        "principal_df = pd.DataFrame(data=principal_components, columns=['pc 1', 'pc 2'])\n",
        "principal_df.head()"
      ],
      "metadata": {
        "colab": {
          "base_uri": "https://localhost:8080/",
          "height": 206
        },
        "id": "ObkP0x4AFqGX",
        "outputId": "0900f679-25d2-4948-e3a8-be7bd992e7d1"
      },
      "execution_count": null,
      "outputs": [
        {
          "output_type": "execute_result",
          "data": {
            "text/plain": [
              "       pc 1      pc 2\n",
              "0 -1.538913  1.897976\n",
              "1  1.197301 -1.332375\n",
              "2  0.764800 -0.835963\n",
              "3  0.598894  0.594839\n",
              "4 -0.037954 -0.217114"
            ],
            "text/html": [
              "\n",
              "  <div id=\"df-f33367b7-6e61-4d6c-a990-2e39f6a830ad\">\n",
              "    <div class=\"colab-df-container\">\n",
              "      <div>\n",
              "<style scoped>\n",
              "    .dataframe tbody tr th:only-of-type {\n",
              "        vertical-align: middle;\n",
              "    }\n",
              "\n",
              "    .dataframe tbody tr th {\n",
              "        vertical-align: top;\n",
              "    }\n",
              "\n",
              "    .dataframe thead th {\n",
              "        text-align: right;\n",
              "    }\n",
              "</style>\n",
              "<table border=\"1\" class=\"dataframe\">\n",
              "  <thead>\n",
              "    <tr style=\"text-align: right;\">\n",
              "      <th></th>\n",
              "      <th>pc 1</th>\n",
              "      <th>pc 2</th>\n",
              "    </tr>\n",
              "  </thead>\n",
              "  <tbody>\n",
              "    <tr>\n",
              "      <th>0</th>\n",
              "      <td>-1.538913</td>\n",
              "      <td>1.897976</td>\n",
              "    </tr>\n",
              "    <tr>\n",
              "      <th>1</th>\n",
              "      <td>1.197301</td>\n",
              "      <td>-1.332375</td>\n",
              "    </tr>\n",
              "    <tr>\n",
              "      <th>2</th>\n",
              "      <td>0.764800</td>\n",
              "      <td>-0.835963</td>\n",
              "    </tr>\n",
              "    <tr>\n",
              "      <th>3</th>\n",
              "      <td>0.598894</td>\n",
              "      <td>0.594839</td>\n",
              "    </tr>\n",
              "    <tr>\n",
              "      <th>4</th>\n",
              "      <td>-0.037954</td>\n",
              "      <td>-0.217114</td>\n",
              "    </tr>\n",
              "  </tbody>\n",
              "</table>\n",
              "</div>\n",
              "      <button class=\"colab-df-convert\" onclick=\"convertToInteractive('df-f33367b7-6e61-4d6c-a990-2e39f6a830ad')\"\n",
              "              title=\"Convert this dataframe to an interactive table.\"\n",
              "              style=\"display:none;\">\n",
              "        \n",
              "  <svg xmlns=\"http://www.w3.org/2000/svg\" height=\"24px\"viewBox=\"0 0 24 24\"\n",
              "       width=\"24px\">\n",
              "    <path d=\"M0 0h24v24H0V0z\" fill=\"none\"/>\n",
              "    <path d=\"M18.56 5.44l.94 2.06.94-2.06 2.06-.94-2.06-.94-.94-2.06-.94 2.06-2.06.94zm-11 1L8.5 8.5l.94-2.06 2.06-.94-2.06-.94L8.5 2.5l-.94 2.06-2.06.94zm10 10l.94 2.06.94-2.06 2.06-.94-2.06-.94-.94-2.06-.94 2.06-2.06.94z\"/><path d=\"M17.41 7.96l-1.37-1.37c-.4-.4-.92-.59-1.43-.59-.52 0-1.04.2-1.43.59L10.3 9.45l-7.72 7.72c-.78.78-.78 2.05 0 2.83L4 21.41c.39.39.9.59 1.41.59.51 0 1.02-.2 1.41-.59l7.78-7.78 2.81-2.81c.8-.78.8-2.07 0-2.86zM5.41 20L4 18.59l7.72-7.72 1.47 1.35L5.41 20z\"/>\n",
              "  </svg>\n",
              "      </button>\n",
              "      \n",
              "  <style>\n",
              "    .colab-df-container {\n",
              "      display:flex;\n",
              "      flex-wrap:wrap;\n",
              "      gap: 12px;\n",
              "    }\n",
              "\n",
              "    .colab-df-convert {\n",
              "      background-color: #E8F0FE;\n",
              "      border: none;\n",
              "      border-radius: 50%;\n",
              "      cursor: pointer;\n",
              "      display: none;\n",
              "      fill: #1967D2;\n",
              "      height: 32px;\n",
              "      padding: 0 0 0 0;\n",
              "      width: 32px;\n",
              "    }\n",
              "\n",
              "    .colab-df-convert:hover {\n",
              "      background-color: #E2EBFA;\n",
              "      box-shadow: 0px 1px 2px rgba(60, 64, 67, 0.3), 0px 1px 3px 1px rgba(60, 64, 67, 0.15);\n",
              "      fill: #174EA6;\n",
              "    }\n",
              "\n",
              "    [theme=dark] .colab-df-convert {\n",
              "      background-color: #3B4455;\n",
              "      fill: #D2E3FC;\n",
              "    }\n",
              "\n",
              "    [theme=dark] .colab-df-convert:hover {\n",
              "      background-color: #434B5C;\n",
              "      box-shadow: 0px 1px 3px 1px rgba(0, 0, 0, 0.15);\n",
              "      filter: drop-shadow(0px 1px 2px rgba(0, 0, 0, 0.3));\n",
              "      fill: #FFFFFF;\n",
              "    }\n",
              "  </style>\n",
              "\n",
              "      <script>\n",
              "        const buttonEl =\n",
              "          document.querySelector('#df-f33367b7-6e61-4d6c-a990-2e39f6a830ad button.colab-df-convert');\n",
              "        buttonEl.style.display =\n",
              "          google.colab.kernel.accessAllowed ? 'block' : 'none';\n",
              "\n",
              "        async function convertToInteractive(key) {\n",
              "          const element = document.querySelector('#df-f33367b7-6e61-4d6c-a990-2e39f6a830ad');\n",
              "          const dataTable =\n",
              "            await google.colab.kernel.invokeFunction('convertToInteractive',\n",
              "                                                     [key], {});\n",
              "          if (!dataTable) return;\n",
              "\n",
              "          const docLinkHtml = 'Like what you see? Visit the ' +\n",
              "            '<a target=\"_blank\" href=https://colab.research.google.com/notebooks/data_table.ipynb>data table notebook</a>'\n",
              "            + ' to learn more about interactive tables.';\n",
              "          element.innerHTML = '';\n",
              "          dataTable['output_type'] = 'display_data';\n",
              "          await google.colab.output.renderOutput(dataTable, element);\n",
              "          const docLink = document.createElement('div');\n",
              "          docLink.innerHTML = docLinkHtml;\n",
              "          element.appendChild(docLink);\n",
              "        }\n",
              "      </script>\n",
              "    </div>\n",
              "  </div>\n",
              "  "
            ]
          },
          "metadata": {},
          "execution_count": 31
        }
      ]
    },
    {
      "cell_type": "markdown",
      "source": [
        "combine features with target, to a new data frame"
      ],
      "metadata": {
        "id": "OMWu5KlRHTsR"
      }
    },
    {
      "cell_type": "code",
      "source": [
        "final_df = pd.concat([principal_df, df[['Gestation']]],axis=1)\n",
        "final_df.head()"
      ],
      "metadata": {
        "colab": {
          "base_uri": "https://localhost:8080/",
          "height": 206
        },
        "id": "2Cpl7o89HPt_",
        "outputId": "3b0f2770-96b1-46f4-ad1d-4c2ab7cf93f9"
      },
      "execution_count": null,
      "outputs": [
        {
          "output_type": "execute_result",
          "data": {
            "text/plain": [
              "       pc 1      pc 2 Gestation\n",
              "0 -1.538913  1.897976   preterm\n",
              "1  1.197301 -1.332375      term\n",
              "2  0.764800 -0.835963      term\n",
              "3  0.598894  0.594839      term\n",
              "4 -0.037954 -0.217114      term"
            ],
            "text/html": [
              "\n",
              "  <div id=\"df-98732682-e696-4f50-b237-8ce9cbd27f0d\">\n",
              "    <div class=\"colab-df-container\">\n",
              "      <div>\n",
              "<style scoped>\n",
              "    .dataframe tbody tr th:only-of-type {\n",
              "        vertical-align: middle;\n",
              "    }\n",
              "\n",
              "    .dataframe tbody tr th {\n",
              "        vertical-align: top;\n",
              "    }\n",
              "\n",
              "    .dataframe thead th {\n",
              "        text-align: right;\n",
              "    }\n",
              "</style>\n",
              "<table border=\"1\" class=\"dataframe\">\n",
              "  <thead>\n",
              "    <tr style=\"text-align: right;\">\n",
              "      <th></th>\n",
              "      <th>pc 1</th>\n",
              "      <th>pc 2</th>\n",
              "      <th>Gestation</th>\n",
              "    </tr>\n",
              "  </thead>\n",
              "  <tbody>\n",
              "    <tr>\n",
              "      <th>0</th>\n",
              "      <td>-1.538913</td>\n",
              "      <td>1.897976</td>\n",
              "      <td>preterm</td>\n",
              "    </tr>\n",
              "    <tr>\n",
              "      <th>1</th>\n",
              "      <td>1.197301</td>\n",
              "      <td>-1.332375</td>\n",
              "      <td>term</td>\n",
              "    </tr>\n",
              "    <tr>\n",
              "      <th>2</th>\n",
              "      <td>0.764800</td>\n",
              "      <td>-0.835963</td>\n",
              "      <td>term</td>\n",
              "    </tr>\n",
              "    <tr>\n",
              "      <th>3</th>\n",
              "      <td>0.598894</td>\n",
              "      <td>0.594839</td>\n",
              "      <td>term</td>\n",
              "    </tr>\n",
              "    <tr>\n",
              "      <th>4</th>\n",
              "      <td>-0.037954</td>\n",
              "      <td>-0.217114</td>\n",
              "      <td>term</td>\n",
              "    </tr>\n",
              "  </tbody>\n",
              "</table>\n",
              "</div>\n",
              "      <button class=\"colab-df-convert\" onclick=\"convertToInteractive('df-98732682-e696-4f50-b237-8ce9cbd27f0d')\"\n",
              "              title=\"Convert this dataframe to an interactive table.\"\n",
              "              style=\"display:none;\">\n",
              "        \n",
              "  <svg xmlns=\"http://www.w3.org/2000/svg\" height=\"24px\"viewBox=\"0 0 24 24\"\n",
              "       width=\"24px\">\n",
              "    <path d=\"M0 0h24v24H0V0z\" fill=\"none\"/>\n",
              "    <path d=\"M18.56 5.44l.94 2.06.94-2.06 2.06-.94-2.06-.94-.94-2.06-.94 2.06-2.06.94zm-11 1L8.5 8.5l.94-2.06 2.06-.94-2.06-.94L8.5 2.5l-.94 2.06-2.06.94zm10 10l.94 2.06.94-2.06 2.06-.94-2.06-.94-.94-2.06-.94 2.06-2.06.94z\"/><path d=\"M17.41 7.96l-1.37-1.37c-.4-.4-.92-.59-1.43-.59-.52 0-1.04.2-1.43.59L10.3 9.45l-7.72 7.72c-.78.78-.78 2.05 0 2.83L4 21.41c.39.39.9.59 1.41.59.51 0 1.02-.2 1.41-.59l7.78-7.78 2.81-2.81c.8-.78.8-2.07 0-2.86zM5.41 20L4 18.59l7.72-7.72 1.47 1.35L5.41 20z\"/>\n",
              "  </svg>\n",
              "      </button>\n",
              "      \n",
              "  <style>\n",
              "    .colab-df-container {\n",
              "      display:flex;\n",
              "      flex-wrap:wrap;\n",
              "      gap: 12px;\n",
              "    }\n",
              "\n",
              "    .colab-df-convert {\n",
              "      background-color: #E8F0FE;\n",
              "      border: none;\n",
              "      border-radius: 50%;\n",
              "      cursor: pointer;\n",
              "      display: none;\n",
              "      fill: #1967D2;\n",
              "      height: 32px;\n",
              "      padding: 0 0 0 0;\n",
              "      width: 32px;\n",
              "    }\n",
              "\n",
              "    .colab-df-convert:hover {\n",
              "      background-color: #E2EBFA;\n",
              "      box-shadow: 0px 1px 2px rgba(60, 64, 67, 0.3), 0px 1px 3px 1px rgba(60, 64, 67, 0.15);\n",
              "      fill: #174EA6;\n",
              "    }\n",
              "\n",
              "    [theme=dark] .colab-df-convert {\n",
              "      background-color: #3B4455;\n",
              "      fill: #D2E3FC;\n",
              "    }\n",
              "\n",
              "    [theme=dark] .colab-df-convert:hover {\n",
              "      background-color: #434B5C;\n",
              "      box-shadow: 0px 1px 3px 1px rgba(0, 0, 0, 0.15);\n",
              "      filter: drop-shadow(0px 1px 2px rgba(0, 0, 0, 0.3));\n",
              "      fill: #FFFFFF;\n",
              "    }\n",
              "  </style>\n",
              "\n",
              "      <script>\n",
              "        const buttonEl =\n",
              "          document.querySelector('#df-98732682-e696-4f50-b237-8ce9cbd27f0d button.colab-df-convert');\n",
              "        buttonEl.style.display =\n",
              "          google.colab.kernel.accessAllowed ? 'block' : 'none';\n",
              "\n",
              "        async function convertToInteractive(key) {\n",
              "          const element = document.querySelector('#df-98732682-e696-4f50-b237-8ce9cbd27f0d');\n",
              "          const dataTable =\n",
              "            await google.colab.kernel.invokeFunction('convertToInteractive',\n",
              "                                                     [key], {});\n",
              "          if (!dataTable) return;\n",
              "\n",
              "          const docLinkHtml = 'Like what you see? Visit the ' +\n",
              "            '<a target=\"_blank\" href=https://colab.research.google.com/notebooks/data_table.ipynb>data table notebook</a>'\n",
              "            + ' to learn more about interactive tables.';\n",
              "          element.innerHTML = '';\n",
              "          dataTable['output_type'] = 'display_data';\n",
              "          await google.colab.output.renderOutput(dataTable, element);\n",
              "          const docLink = document.createElement('div');\n",
              "          docLink.innerHTML = docLinkHtml;\n",
              "          element.appendChild(docLink);\n",
              "        }\n",
              "      </script>\n",
              "    </div>\n",
              "  </div>\n",
              "  "
            ]
          },
          "metadata": {},
          "execution_count": 32
        }
      ]
    },
    {
      "cell_type": "code",
      "source": [
        "fig = plt.figure(figsize = (10,10))\n",
        "ax = fig.add_subplot(1,1,1)\n",
        "ax.set_xlabel('Principal Component 1', fontsize = 15)\n",
        "ax.set_ylabel('Principal Component 2', fontsize = 15)\n",
        "ax.set_title('2 component PCA', fontsize = 20)\n",
        "targets = ['preterm', 'term']\n",
        "colors = ['r', 'b']\n",
        "for target, color in zip(targets,colors):\n",
        "    indicesToKeep = final_df['Gestation'] == target\n",
        "    ax.scatter(final_df.loc[indicesToKeep, 'pc 1'], final_df.loc[indicesToKeep, 'pc 2'], c = color, s = 50)\n",
        "ax.legend(targets)\n",
        "ax.grid()"
      ],
      "metadata": {
        "colab": {
          "base_uri": "https://localhost:8080/",
          "height": 632
        },
        "id": "h3N1MMejHPxx",
        "outputId": "0142dd25-9dd0-4c16-9f00-cc349074b450"
      },
      "execution_count": null,
      "outputs": [
        {
          "output_type": "display_data",
          "data": {
            "text/plain": [
              "<Figure size 720x720 with 1 Axes>"
            ],
            "image/png": "[encoded data removed]"
          },
          "metadata": {
            "needs_background": "light"
          }
        }
      ]
    },
    {
      "cell_type": "code",
      "source": [
        "sum(pca.explained_variance_ratio_)"
      ],
      "metadata": {
        "colab": {
          "base_uri": "https://localhost:8080/"
        },
        "id": "SRh75SjOHP1K",
        "outputId": "b61a7cda-e3f7-4f81-9368-48977ff740b4"
      },
      "execution_count": null,
      "outputs": [
        {
          "output_type": "execute_result",
          "data": {
            "text/plain": [
              "0.25849840250228473"
            ]
          },
          "metadata": {},
          "execution_count": 34
        }
      ]
    },
    {
      "cell_type": "code",
      "source": [
        "from mpl_toolkits.mplot3d import Axes3D\n",
        "import plotly.express as px"
      ],
      "metadata": {
        "id": "bjduKbPgHP4b"
      },
      "execution_count": null,
      "outputs": []
    },
    {
      "cell_type": "code",
      "source": [
        "pca = PCA(n_components=3)\n",
        "principal_components = pca.fit_transform(x)\n",
        "principal_df = pd.DataFrame(data=principal_components, columns=['pc 1', 'pc 2', 'pc 3'])\n",
        "principal_df.head()\n",
        "final_df = pd.concat([principal_df, df[['Gestation']]],axis=1)\n",
        "final_df.head()"
      ],
      "metadata": {
        "colab": {
          "base_uri": "https://localhost:8080/",
          "height": 206
        },
        "id": "k0VZ5jUUHP8O",
        "outputId": "1e8fb05f-7d68-49df-a63c-4f9f254d2168"
      },
      "execution_count": null,
      "outputs": [
        {
          "output_type": "execute_result",
          "data": {
            "text/plain": [
              "       pc 1      pc 2      pc 3 Gestation\n",
              "0 -1.538913  1.897976  0.317906   preterm\n",
              "1  1.197301 -1.332375 -0.768286      term\n",
              "2  0.764800 -0.835963 -0.570211      term\n",
              "3  0.598894  0.594839 -0.681488      term\n",
              "4 -0.037954 -0.217114  1.313243      term"
            ],
            "text/html": [
              "\n",
              "  <div id=\"df-4c14bfc2-0e45-432d-a20a-3a1462b3e4ab\">\n",
              "    <div class=\"colab-df-container\">\n",
              "      <div>\n",
              "<style scoped>\n",
              "    .dataframe tbody tr th:only-of-type {\n",
              "        vertical-align: middle;\n",
              "    }\n",
              "\n",
              "    .dataframe tbody tr th {\n",
              "        vertical-align: top;\n",
              "    }\n",
              "\n",
              "    .dataframe thead th {\n",
              "        text-align: right;\n",
              "    }\n",
              "</style>\n",
              "<table border=\"1\" class=\"dataframe\">\n",
              "  <thead>\n",
              "    <tr style=\"text-align: right;\">\n",
              "      <th></th>\n",
              "      <th>pc 1</th>\n",
              "      <th>pc 2</th>\n",
              "      <th>pc 3</th>\n",
              "      <th>Gestation</th>\n",
              "    </tr>\n",
              "  </thead>\n",
              "  <tbody>\n",
              "    <tr>\n",
              "      <th>0</th>\n",
              "      <td>-1.538913</td>\n",
              "      <td>1.897976</td>\n",
              "      <td>0.317906</td>\n",
              "      <td>preterm</td>\n",
              "    </tr>\n",
              "    <tr>\n",
              "      <th>1</th>\n",
              "      <td>1.197301</td>\n",
              "      <td>-1.332375</td>\n",
              "      <td>-0.768286</td>\n",
              "      <td>term</td>\n",
              "    </tr>\n",
              "    <tr>\n",
              "      <th>2</th>\n",
              "      <td>0.764800</td>\n",
              "      <td>-0.835963</td>\n",
              "      <td>-0.570211</td>\n",
              "      <td>term</td>\n",
              "    </tr>\n",
              "    <tr>\n",
              "      <th>3</th>\n",
              "      <td>0.598894</td>\n",
              "      <td>0.594839</td>\n",
              "      <td>-0.681488</td>\n",
              "      <td>term</td>\n",
              "    </tr>\n",
              "    <tr>\n",
              "      <th>4</th>\n",
              "      <td>-0.037954</td>\n",
              "      <td>-0.217114</td>\n",
              "      <td>1.313243</td>\n",
              "      <td>term</td>\n",
              "    </tr>\n",
              "  </tbody>\n",
              "</table>\n",
              "</div>\n",
              "      <button class=\"colab-df-convert\" onclick=\"convertToInteractive('df-4c14bfc2-0e45-432d-a20a-3a1462b3e4ab')\"\n",
              "              title=\"Convert this dataframe to an interactive table.\"\n",
              "              style=\"display:none;\">\n",
              "        \n",
              "  <svg xmlns=\"http://www.w3.org/2000/svg\" height=\"24px\"viewBox=\"0 0 24 24\"\n",
              "       width=\"24px\">\n",
              "    <path d=\"M0 0h24v24H0V0z\" fill=\"none\"/>\n",
              "    <path d=\"M18.56 5.44l.94 2.06.94-2.06 2.06-.94-2.06-.94-.94-2.06-.94 2.06-2.06.94zm-11 1L8.5 8.5l.94-2.06 2.06-.94-2.06-.94L8.5 2.5l-.94 2.06-2.06.94zm10 10l.94 2.06.94-2.06 2.06-.94-2.06-.94-.94-2.06-.94 2.06-2.06.94z\"/><path d=\"M17.41 7.96l-1.37-1.37c-.4-.4-.92-.59-1.43-.59-.52 0-1.04.2-1.43.59L10.3 9.45l-7.72 7.72c-.78.78-.78 2.05 0 2.83L4 21.41c.39.39.9.59 1.41.59.51 0 1.02-.2 1.41-.59l7.78-7.78 2.81-2.81c.8-.78.8-2.07 0-2.86zM5.41 20L4 18.59l7.72-7.72 1.47 1.35L5.41 20z\"/>\n",
              "  </svg>\n",
              "      </button>\n",
              "      \n",
              "  <style>\n",
              "    .colab-df-container {\n",
              "      display:flex;\n",
              "      flex-wrap:wrap;\n",
              "      gap: 12px;\n",
              "    }\n",
              "\n",
              "    .colab-df-convert {\n",
              "      background-color: #E8F0FE;\n",
              "      border: none;\n",
              "      border-radius: 50%;\n",
              "      cursor: pointer;\n",
              "      display: none;\n",
              "      fill: #1967D2;\n",
              "      height: 32px;\n",
              "      padding: 0 0 0 0;\n",
              "      width: 32px;\n",
              "    }\n",
              "\n",
              "    .colab-df-convert:hover {\n",
              "      background-color: #E2EBFA;\n",
              "      box-shadow: 0px 1px 2px rgba(60, 64, 67, 0.3), 0px 1px 3px 1px rgba(60, 64, 67, 0.15);\n",
              "      fill: #174EA6;\n",
              "    }\n",
              "\n",
              "    [theme=dark] .colab-df-convert {\n",
              "      background-color: #3B4455;\n",
              "      fill: #D2E3FC;\n",
              "    }\n",
              "\n",
              "    [theme=dark] .colab-df-convert:hover {\n",
              "      background-color: #434B5C;\n",
              "      box-shadow: 0px 1px 3px 1px rgba(0, 0, 0, 0.15);\n",
              "      filter: drop-shadow(0px 1px 2px rgba(0, 0, 0, 0.3));\n",
              "      fill: #FFFFFF;\n",
              "    }\n",
              "  </style>\n",
              "\n",
              "      <script>\n",
              "        const buttonEl =\n",
              "          document.querySelector('#df-4c14bfc2-0e45-432d-a20a-3a1462b3e4ab button.colab-df-convert');\n",
              "        buttonEl.style.display =\n",
              "          google.colab.kernel.accessAllowed ? 'block' : 'none';\n",
              "\n",
              "        async function convertToInteractive(key) {\n",
              "          const element = document.querySelector('#df-4c14bfc2-0e45-432d-a20a-3a1462b3e4ab');\n",
              "          const dataTable =\n",
              "            await google.colab.kernel.invokeFunction('convertToInteractive',\n",
              "                                                     [key], {});\n",
              "          if (!dataTable) return;\n",
              "\n",
              "          const docLinkHtml = 'Like what you see? Visit the ' +\n",
              "            '<a target=\"_blank\" href=https://colab.research.google.com/notebooks/data_table.ipynb>data table notebook</a>'\n",
              "            + ' to learn more about interactive tables.';\n",
              "          element.innerHTML = '';\n",
              "          dataTable['output_type'] = 'display_data';\n",
              "          await google.colab.output.renderOutput(dataTable, element);\n",
              "          const docLink = document.createElement('div');\n",
              "          docLink.innerHTML = docLinkHtml;\n",
              "          element.appendChild(docLink);\n",
              "        }\n",
              "      </script>\n",
              "    </div>\n",
              "  </div>\n",
              "  "
            ]
          },
          "metadata": {},
          "execution_count": 36
        }
      ]
    },
    {
      "cell_type": "code",
      "source": [
        "fig = plt.figure(figsize = (10,10))\n",
        "ax = fig.add_subplot(111, projection='3d')\n",
        "ax.set_xlabel('Principal Component 1', fontsize = 15)\n",
        "ax.set_ylabel('Principal Component 2', fontsize = 15)\n",
        "ax.set_zlabel('Principal Component 3', fontsize = 15)\n",
        "\n",
        "ax.set_title('3 component PCA', fontsize = 20)\n",
        "targets = ['preterm', 'term']\n",
        "colors = ['r', 'b']\n",
        "for target, color in zip(targets,colors):\n",
        "    indicesToKeep = final_df['Gestation'] == target\n",
        "    ax.scatter(final_df.loc[indicesToKeep, 'pc 1'], final_df.loc[indicesToKeep, 'pc 2'], final_df.loc[indicesToKeep, 'pc 3'], c = color, s = 50)\n",
        "ax.legend(targets)\n",
        "ax.grid()"
      ],
      "metadata": {
        "colab": {
          "base_uri": "https://localhost:8080/",
          "height": 575
        },
        "id": "jxFV9HtrHQAL",
        "outputId": "193bc1ec-f4cd-416b-e456-3ce104109e9c"
      },
      "execution_count": null,
      "outputs": [
        {
          "output_type": "display_data",
          "data": {
            "text/plain": [
              "<Figure size 720x720 with 1 Axes>"
            ],
            "image/png": "[encoded data removed]"
          },
          "metadata": {
            "needs_background": "light"
          }
        }
      ]
    },
    {
      "cell_type": "code",
      "source": [
        "px_fig = px.scatter_3d(final_df, x='pc 1', y='pc 2', z='pc 3', color='Gestation')\n",
        "px_fig.show()"
      ],
      "metadata": {
        "colab": {
          "base_uri": "https://localhost:8080/",
          "height": 542
        },
        "id": "HNMHlZwmHQHp",
        "outputId": "826dd0fc-ecfb-4048-b9d5-91f35df5ee79"
      },
      "execution_count": null,
      "outputs": [
        {
          "output_type": "display_data",
          "data": {
            "text/html": [
              "<html>\n",
              "<head><meta charset=\"utf-8\" /></head>\n",
              "<body>\n",
              "    <div>            <script src=\"https://cdnjs.cloudflare.com/ajax/libs/mathjax/2.7.5/MathJax.js?config=TeX-AMS-MML_SVG\"></script><script type=\"text/javascript\">if (window.MathJax) {MathJax.Hub.Config({SVG: {font: \"STIX-Web\"}});}</script>                <script type=\"text/javascript\">window.PlotlyConfig = {MathJaxConfig: 'local'};</script>\n",
              "        <script src=\"https://cdn.plot.ly/plotly-2.8.3.min.js\"></script>                <div id=\"a36ff7ec-712f-46ab-bd7d-9409d9701487\" class=\"plotly-graph-div\" style=\"height:525px; width:100%;\"></div>            <script type=\"text/javascript\">                                    window.PLOTLYENV=window.PLOTLYENV || {};                                    if (document.getElementById(\"a36ff7ec-712f-46ab-bd7d-9409d9701487\")) {                    Plotly.newPlot(                        \"a36ff7ec-712f-46ab-bd7d-9409d9701487\",                        [{\"hovertemplate\":\"Gestation=preterm<br>pc 1=%{x}<br>pc 2=%{y}<br>pc 3=%{z}<extra></extra>\",\"legendgroup\":\"preterm\",\"marker\":{\"color\":\"#636efa\",\"symbol\":\"circle\"},\"mode\":\"markers\",\"name\":\"preterm\",\"scene\":\"scene\",\"showlegend\":true,\"x\":[-1.5389131143300956,1.4326031445360359,-2.6119939989634338,0.003563023735016848,-0.5715230717234999,-2.0217414990629,0.15763671759923728,0.12527113434955983,1.5928044000956083,-1.157193544965487,0.9788462040236521,-0.8097543433391114,0.6361566278596873,0.4220399541230578,0.03127907877581739,-0.9639181387131139,0.24389553681642204,-0.25633881232755323,-1.4218122755982172],\"y\":[1.8979758243882545,-0.5977777376295957,1.6888139716935104,-0.7593082218309029,0.06361361794238336,0.5965117367654923,-0.6310784591388647,0.08725383544863559,-1.684987211007506,0.7139221880106273,-0.9650324833339463,0.33246588055475185,-1.0274549382090048,0.8573681525760657,0.5879423315491573,0.3889513412181498,-0.3063119830469328,0.39590400352620625,0.29637552882977286],\"z\":[0.3179058887540067,-2.6253968502132534,-0.24845549915755252,-1.0249854408384398,0.42034890433745287,-0.40498616313870284,-0.3142398978673592,1.1127130106417142,0.40220488773882496,1.3298833290804908,1.7323320875267183,0.503864912403865,-0.7527145531936672,-0.5037581750632739,-2.141698230028137,0.1198388988238228,0.7726245729964488,0.339605110953245,-0.5904684541591863],\"type\":\"scatter3d\"},{\"hovertemplate\":\"Gestation=term<br>pc 1=%{x}<br>pc 2=%{y}<br>pc 3=%{z}<extra></extra>\",\"legendgroup\":\"term\",\"marker\":{\"color\":\"#EF553B\",\"symbol\":\"circle\"},\"mode\":\"markers\",\"name\":\"term\",\"scene\":\"scene\",\"showlegend\":true,\"x\":[1.1973008053979162,0.7648004557281401,0.5988939092134471,-0.03795365791884189,0.5139899078226302,0.6229900357908442,-0.5885393090551562,0.14003532447757047,-1.6948470370860904,-0.3473539316597795,-0.9249730544395818,-1.200542045640962,-1.834107621761506,0.144030447831871,2.8307002498568683,4.2934020453317885,7.282696641890321,-2.708926158367582,4.023354578795288,-1.2140451700963404,-1.3216775574890414,-0.5744768208526702,0.3855369652247828,-0.33613291123399075,1.426600105280194,-0.2279609237881127,2.2949157981948405,0.07172381652633415,-1.8781196898452102,0.07240164184006224,-2.1657439937525056,-1.1220453049793753,-0.8578521786724509,-0.5997758060551516,-2.362477190294599,-0.8253460008005721,2.3971893546601857,-2.2378616623606487,-0.5347899022841198,-0.7103724889379778,1.4976588161604725,0.9785650505921153,-0.34483254049017215,0.17816132347649544,-0.819846246423322,0.34219905399722855,1.0409476637150596,1.344740428640559,1.7156138554426916,0.8800330169105081,-0.17154485363903835,0.03941943061715755,-1.1416736108681118,1.3526052722832191,-0.8845106686858226,-0.5790442770452475,0.27515827115022423,-0.32486890183540246,-0.4011796961403566,2.2575664114445493,0.01929511129695718,0.8680489079337356,0.3844825636100134,-0.09763607006840501,1.1583146728177038,-1.2726012442426993,-0.40271712427699574,5.724608682756435,-0.46909380225356795,-0.03966261183735685,-1.295041349880991,-0.6127058433880673,-0.6201444247980784,-1.2164184445071071,-0.5684174536064935,-0.5744704324188923,1.228883921132027,-0.6612277600853324,0.04877601280116207,0.03869179037331181,-2.0104381949547703,-0.597820287948548,2.2181625214962737,-1.3466564464436626,-0.6514971318959405,0.37854093854139964,1.171710551571364,-0.06996257529456028,0.3232898445236795,-1.1357690447723254,0.4283236442370916,1.2916491135389767,1.0805024144187014,-0.671779801328128,-0.486865679687775,-0.2243374341829712,-0.5723963693415726,0.09215270494461732,-2.0708015551784165,-1.3125912061265095,0.252300993932614,-2.1984766809053404,0.09457579979618562,-1.060713478310707,0.7101098113689635,-0.620342163324909,0.21836725757703132,-0.0699034150995061,-0.7044035337966826,-0.715708786496751,-1.279207067507398,-2.931683847826973,-0.18573028234724193,0.3056306408273967,-0.1362658137387075,1.9649395765245297,-0.19808271042975664,-1.796098645767281,0.32829721692823294,-2.6512358332317736,-0.5926264253762199,0.10033168780517768,0.9077842789322622,0.07722450894705656,0.49015871710764175,-2.1482262553300577,-0.4822035575642373,0.44269915477858973,0.7146096133601391,2.920403840141848,0.03263821796061239,0.306161054553112,-1.2248746688532797,0.7453739237611067,2.2584636649370777,0.5811228273529425,1.2102801264865448,-0.5062520205769817,0.019701925580466413,-0.5368819323863806,0.9675236235132285,0.3063556714117245,4.791146209839579,-0.9300616797395876,-4.186521705989555,0.014525590715464365,-0.6048478516110967,-0.020620379780675165,3.0544354721705425,0.23070973352244312],\"y\":[-1.332374965175104,-0.8359629456551133,0.59483889937142,-0.21711447338727113,1.1215813043561547,-0.31952268287069496,0.2322126047425472,-0.3847121466514776,0.46321010206043606,-1.0727828517067857,0.6360209053723292,0.4077613996383738,0.769399539226254,-0.043787496006569705,2.06228868002476,0.7213768660368503,4.584240815566562,1.7116105031043942,-1.5320639147687725,0.15399850074688476,0.48340388637093623,-0.13527962671770571,-0.5391004972553254,-0.06702888266722085,-1.0182498673833986,-0.4670288780947613,-0.8359065573709169,-0.7506308084914656,0.6524631251800929,-0.44971443256791077,1.0688184675480357,-0.006481076500239591,0.5866449260929969,-0.18315403861781426,1.1467865886579887,1.0307662887427045,-2.1507780311222864,1.4332463995590388,-0.18317437814414889,0.10946192316811132,0.011559698415415738,-0.8433105758772291,-0.22267118330697921,-0.9763997370399384,-0.42544700777115146,-0.41924376311098677,-1.0275803153979648,-0.8154091945483958,0.36807324470176767,-1.306074604338584,-0.5986223718007984,-0.024223413939415406,0.05309422570259675,-0.9999730393425117,0.0016183327174597935,-0.2259170263082127,-0.6102673458532387,-0.14313345209677367,-0.4259804611345374,-1.371205372635707,-0.4350552703694266,-0.3018196291292088,0.0028214065188685348,-0.5556069497360044,0.0773091403181256,0.33048330712566293,-0.19325080101155837,11.934860575055424,-0.38377044242405844,-0.27366720367945696,0.5972559940004311,-0.22297678659361256,-0.5694206784001113,0.4360992869186501,-0.24493311647090485,0.18389232138922762,-1.2624288796816971,0.10005432036077397,0.5578230950386095,-1.1673099285329565,0.6235980550114287,-0.11350461316799927,-2.1193863823366037,0.2475596518369668,-0.13345234653536048,-0.7281395732926279,-0.5565745979107067,-0.5521663902578933,-0.9394031140321942,0.0189049407223892,-0.948725657612238,-1.1051658906981137,-0.9727501095954444,-0.31730756190452036,-0.4329191386976686,-0.6474530723150285,0.703837611144503,-0.9203714369945671,0.6732847929141795,1.0271661851891227,-0.3723972773806136,0.4704742072165143,0.7078230251697073,0.07561071283339112,-0.6671374711226864,0.7042247619561866,-0.5986559868879323,0.46663387821237745,0.08433430502042208,0.5301227324156284,1.6002257414987713,1.323314977724488,-0.3820528880361208,-0.3801201039183949,-0.7045117651736149,-1.5080118851110058,-0.6447234404734451,0.5200248948008765,-0.7396329143791096,1.4788512012606951,1.4675493544593943,-0.028290291331273188,-0.9016745027344685,-0.42097828080999455,-0.2376424408306238,1.2757002163914535,0.03646076484153104,-0.7494564038443041,-0.189228847510367,-1.625869299538031,-0.5013760944772899,0.39232267022680606,0.8562001177444748,-0.8054407722790589,-0.09530923848503989,0.15917628715579313,-0.4285579094021158,0.134828173935901,-1.0926176733423691,-0.07919270093873589,-0.592668724688896,0.00600842834846258,1.7191394088154472,0.5278295001732611,2.490892540071997,-0.9169543028391338,-0.4723342191066761,-0.1706514863124812,-1.5500452594825376,-0.9689240217546312],\"z\":[-0.7682858468664305,-0.5702113673403311,-0.6814884897994927,1.3132429254200289,-1.798930909028962,0.9829826039393429,1.3672660213369359,1.1506944025590924,-1.0492398510030048,-1.4081493935685954,1.247495142933861,0.37452576862407155,0.6863815372407274,-1.4603640065811863,-3.0397591885722197,-2.6032333608740013,1.2860645828246529,0.9709525804342763,2.0539071618260496,-0.5980419228653797,-0.12714028270971942,0.5709387890743478,1.083590302293342,0.6228740798372028,-0.7671467555830496,-0.9598059521021647,5.414746539157651,0.0034530054728168086,-0.3266447610779902,0.03603532656979069,-0.11489714208969991,-0.5615613542053853,0.5668048181193986,-0.5655819007628256,1.0218477677108229,1.036549284901696,-0.3431337608010334,-1.02240845082223,-0.37039165417373876,0.912133920717082,1.4454745021750728,0.4124402911457641,-0.27149068780055746,-1.357629897359229,-0.5873895579806944,0.4504623303926854,-0.9646080950273109,0.28145973410508157,5.766851030109416,-0.7276359834768585,-1.1607035490850917,0.8615718824742855,-0.016151740923419918,1.4338452765964378,0.08706415167871469,-0.7345086171302616,-0.12042329429850471,0.12356333366288423,0.09061130477062945,2.6970091536778473,-0.5679016942210496,0.5062355816017848,0.8239286644720784,2.901935551483955,0.7051748129425192,-0.23739946510527757,-0.0009226633721965844,-0.2886465699026897,-0.9780657067762324,-0.520792520252096,0.5308047844910696,-0.6528764398833959,-0.6280311428651025,0.2825793064333213,0.1091658512549472,0.5572325159210053,0.3448571298858752,0.26697837605799873,0.3603385586146438,-1.5733838515295693,-0.20677133716818816,-0.8216238222088025,0.4875187831949148,0.21188161533416652,0.7890428420067588,-0.23480943933898843,1.998071716982473,-0.5904639466226673,-0.46351960595124986,-1.169169987871031,-1.675836294841295,0.39234832147941084,0.46728379536766945,-0.6270092864562432,-0.4212283133868672,-0.1970768338049847,-0.38759947073521134,-1.216050306274447,-0.3801082190290263,-0.2481902487207962,0.38328052836924226,-0.8851479254640084,1.178772787416067,-0.6472943758569595,1.350025638402129,-0.33493018283823695,-1.0974558629814433,-1.1215711708384777,-0.5608913436476375,1.3959293944712996,1.654819009154538,0.016723934215557533,-0.4405770551162915,0.8171873061325172,-1.334044997993217,0.9641074758560187,-1.0609222867742958,-0.7705336603242025,0.2920819181856069,0.5912687283478872,0.5656656590276818,1.2211693455829977,0.25928094364552673,-0.06016018277665128,0.56016269039564,-0.17238351145552616,-0.17752007571034187,-1.4238483687610135,1.268757096948596,0.34492399916302685,-1.4502123727039893,2.4379394567274235,-0.05495591697130715,-1.1533778469939218,-3.09710488550153,-2.2290542399454365,1.2794781231672072,1.3030814678429061,-2.0460870381966028,0.11987207936552187,-0.09142038199594867,0.028979573599134407,-4.227213951397545,-0.08692118330429434,1.3246765908670186,-1.3347842950639381,-0.7686003860645456,0.522324951468538,-0.05411208760797445,-0.5677842707435973],\"type\":\"scatter3d\"}],                        {\"template\":{\"data\":{\"bar\":[{\"error_x\":{\"color\":\"#2a3f5f\"},\"error_y\":{\"color\":\"#2a3f5f\"},\"marker\":{\"line\":{\"color\":\"#E5ECF6\",\"width\":0.5},\"pattern\":{\"fillmode\":\"overlay\",\"size\":10,\"solidity\":0.2}},\"type\":\"bar\"}],\"barpolar\":[{\"marker\":{\"line\":{\"color\":\"#E5ECF6\",\"width\":0.5},\"pattern\":{\"fillmode\":\"overlay\",\"size\":10,\"solidity\":0.2}},\"type\":\"barpolar\"}],\"carpet\":[{\"aaxis\":{\"endlinecolor\":\"#2a3f5f\",\"gridcolor\":\"white\",\"linecolor\":\"white\",\"minorgridcolor\":\"white\",\"startlinecolor\":\"#2a3f5f\"},\"baxis\":{\"endlinecolor\":\"#2a3f5f\",\"gridcolor\":\"white\",\"linecolor\":\"white\",\"minorgridcolor\":\"white\",\"startlinecolor\":\"#2a3f5f\"},\"type\":\"carpet\"}],\"choropleth\":[{\"colorbar\":{\"outlinewidth\":0,\"ticks\":\"\"},\"type\":\"choropleth\"}],\"contour\":[{\"colorbar\":{\"outlinewidth\":0,\"ticks\":\"\"},\"colorscale\":[[0.0,\"#0d0887\"],[0.1111111111111111,\"#46039f\"],[0.2222222222222222,\"#7201a8\"],[0.3333333333333333,\"#9c179e\"],[0.4444444444444444,\"#bd3786\"],[0.5555555555555556,\"#d8576b\"],[0.6666666666666666,\"#ed7953\"],[0.7777777777777778,\"#fb9f3a\"],[0.8888888888888888,\"#fdca26\"],[1.0,\"#f0f921\"]],\"type\":\"contour\"}],\"contourcarpet\":[{\"colorbar\":{\"outlinewidth\":0,\"ticks\":\"\"},\"type\":\"contourcarpet\"}],\"heatmap\":[{\"colorbar\":{\"outlinewidth\":0,\"ticks\":\"\"},\"colorscale\":[[0.0,\"#0d0887\"],[0.1111111111111111,\"#46039f\"],[0.2222222222222222,\"#7201a8\"],[0.3333333333333333,\"#9c179e\"],[0.4444444444444444,\"#bd3786\"],[0.5555555555555556,\"#d8576b\"],[0.6666666666666666,\"#ed7953\"],[0.7777777777777778,\"#fb9f3a\"],[0.8888888888888888,\"#fdca26\"],[1.0,\"#f0f921\"]],\"type\":\"heatmap\"}],\"heatmapgl\":[{\"colorbar\":{\"outlinewidth\":0,\"ticks\":\"\"},\"colorscale\":[[0.0,\"#0d0887\"],[0.1111111111111111,\"#46039f\"],[0.2222222222222222,\"#7201a8\"],[0.3333333333333333,\"#9c179e\"],[0.4444444444444444,\"#bd3786\"],[0.5555555555555556,\"#d8576b\"],[0.6666666666666666,\"#ed7953\"],[0.7777777777777778,\"#fb9f3a\"],[0.8888888888888888,\"#fdca26\"],[1.0,\"#f0f921\"]],\"type\":\"heatmapgl\"}],\"histogram\":[{\"marker\":{\"pattern\":{\"fillmode\":\"overlay\",\"size\":10,\"solidity\":0.2}},\"type\":\"histogram\"}],\"histogram2d\":[{\"colorbar\":{\"outlinewidth\":0,\"ticks\":\"\"},\"colorscale\":[[0.0,\"#0d0887\"],[0.1111111111111111,\"#46039f\"],[0.2222222222222222,\"#7201a8\"],[0.3333333333333333,\"#9c179e\"],[0.4444444444444444,\"#bd3786\"],[0.5555555555555556,\"#d8576b\"],[0.6666666666666666,\"#ed7953\"],[0.7777777777777778,\"#fb9f3a\"],[0.8888888888888888,\"#fdca26\"],[1.0,\"#f0f921\"]],\"type\":\"histogram2d\"}],\"histogram2dcontour\":[{\"colorbar\":{\"outlinewidth\":0,\"ticks\":\"\"},\"colorscale\":[[0.0,\"#0d0887\"],[0.1111111111111111,\"#46039f\"],[0.2222222222222222,\"#7201a8\"],[0.3333333333333333,\"#9c179e\"],[0.4444444444444444,\"#bd3786\"],[0.5555555555555556,\"#d8576b\"],[0.6666666666666666,\"#ed7953\"],[0.7777777777777778,\"#fb9f3a\"],[0.8888888888888888,\"#fdca26\"],[1.0,\"#f0f921\"]],\"type\":\"histogram2dcontour\"}],\"mesh3d\":[{\"colorbar\":{\"outlinewidth\":0,\"ticks\":\"\"},\"type\":\"mesh3d\"}],\"parcoords\":[{\"line\":{\"colorbar\":{\"outlinewidth\":0,\"ticks\":\"\"}},\"type\":\"parcoords\"}],\"pie\":[{\"automargin\":true,\"type\":\"pie\"}],\"scatter\":[{\"marker\":{\"colorbar\":{\"outlinewidth\":0,\"ticks\":\"\"}},\"type\":\"scatter\"}],\"scatter3d\":[{\"line\":{\"colorbar\":{\"outlinewidth\":0,\"ticks\":\"\"}},\"marker\":{\"colorbar\":{\"outlinewidth\":0,\"ticks\":\"\"}},\"type\":\"scatter3d\"}],\"scattercarpet\":[{\"marker\":{\"colorbar\":{\"outlinewidth\":0,\"ticks\":\"\"}},\"type\":\"scattercarpet\"}],\"scattergeo\":[{\"marker\":{\"colorbar\":{\"outlinewidth\":0,\"ticks\":\"\"}},\"type\":\"scattergeo\"}],\"scattergl\":[{\"marker\":{\"colorbar\":{\"outlinewidth\":0,\"ticks\":\"\"}},\"type\":\"scattergl\"}],\"scattermapbox\":[{\"marker\":{\"colorbar\":{\"outlinewidth\":0,\"ticks\":\"\"}},\"type\":\"scattermapbox\"}],\"scatterpolar\":[{\"marker\":{\"colorbar\":{\"outlinewidth\":0,\"ticks\":\"\"}},\"type\":\"scatterpolar\"}],\"scatterpolargl\":[{\"marker\":{\"colorbar\":{\"outlinewidth\":0,\"ticks\":\"\"}},\"type\":\"scatterpolargl\"}],\"scatterternary\":[{\"marker\":{\"colorbar\":{\"outlinewidth\":0,\"ticks\":\"\"}},\"type\":\"scatterternary\"}],\"surface\":[{\"colorbar\":{\"outlinewidth\":0,\"ticks\":\"\"},\"colorscale\":[[0.0,\"#0d0887\"],[0.1111111111111111,\"#46039f\"],[0.2222222222222222,\"#7201a8\"],[0.3333333333333333,\"#9c179e\"],[0.4444444444444444,\"#bd3786\"],[0.5555555555555556,\"#d8576b\"],[0.6666666666666666,\"#ed7953\"],[0.7777777777777778,\"#fb9f3a\"],[0.8888888888888888,\"#fdca26\"],[1.0,\"#f0f921\"]],\"type\":\"surface\"}],\"table\":[{\"cells\":{\"fill\":{\"color\":\"#EBF0F8\"},\"line\":{\"color\":\"white\"}},\"header\":{\"fill\":{\"color\":\"#C8D4E3\"},\"line\":{\"color\":\"white\"}},\"type\":\"table\"}]},\"layout\":{\"annotationdefaults\":{\"arrowcolor\":\"#2a3f5f\",\"arrowhead\":0,\"arrowwidth\":1},\"autotypenumbers\":\"strict\",\"coloraxis\":{\"colorbar\":{\"outlinewidth\":0,\"ticks\":\"\"}},\"colorscale\":{\"diverging\":[[0,\"#8e0152\"],[0.1,\"#c51b7d\"],[0.2,\"#de77ae\"],[0.3,\"#f1b6da\"],[0.4,\"#fde0ef\"],[0.5,\"#f7f7f7\"],[0.6,\"#e6f5d0\"],[0.7,\"#b8e186\"],[0.8,\"#7fbc41\"],[0.9,\"#4d9221\"],[1,\"#276419\"]],\"sequential\":[[0.0,\"#0d0887\"],[0.1111111111111111,\"#46039f\"],[0.2222222222222222,\"#7201a8\"],[0.3333333333333333,\"#9c179e\"],[0.4444444444444444,\"#bd3786\"],[0.5555555555555556,\"#d8576b\"],[0.6666666666666666,\"#ed7953\"],[0.7777777777777778,\"#fb9f3a\"],[0.8888888888888888,\"#fdca26\"],[1.0,\"#f0f921\"]],\"sequentialminus\":[[0.0,\"#0d0887\"],[0.1111111111111111,\"#46039f\"],[0.2222222222222222,\"#7201a8\"],[0.3333333333333333,\"#9c179e\"],[0.4444444444444444,\"#bd3786\"],[0.5555555555555556,\"#d8576b\"],[0.6666666666666666,\"#ed7953\"],[0.7777777777777778,\"#fb9f3a\"],[0.8888888888888888,\"#fdca26\"],[1.0,\"#f0f921\"]]},\"colorway\":[\"#636efa\",\"#EF553B\",\"#00cc96\",\"#ab63fa\",\"#FFA15A\",\"#19d3f3\",\"#FF6692\",\"#B6E880\",\"#FF97FF\",\"#FECB52\"],\"font\":{\"color\":\"#2a3f5f\"},\"geo\":{\"bgcolor\":\"white\",\"lakecolor\":\"white\",\"landcolor\":\"#E5ECF6\",\"showlakes\":true,\"showland\":true,\"subunitcolor\":\"white\"},\"hoverlabel\":{\"align\":\"left\"},\"hovermode\":\"closest\",\"mapbox\":{\"style\":\"light\"},\"paper_bgcolor\":\"white\",\"plot_bgcolor\":\"#E5ECF6\",\"polar\":{\"angularaxis\":{\"gridcolor\":\"white\",\"linecolor\":\"white\",\"ticks\":\"\"},\"bgcolor\":\"#E5ECF6\",\"radialaxis\":{\"gridcolor\":\"white\",\"linecolor\":\"white\",\"ticks\":\"\"}},\"scene\":{\"xaxis\":{\"backgroundcolor\":\"#E5ECF6\",\"gridcolor\":\"white\",\"gridwidth\":2,\"linecolor\":\"white\",\"showbackground\":true,\"ticks\":\"\",\"zerolinecolor\":\"white\"},\"yaxis\":{\"backgroundcolor\":\"#E5ECF6\",\"gridcolor\":\"white\",\"gridwidth\":2,\"linecolor\":\"white\",\"showbackground\":true,\"ticks\":\"\",\"zerolinecolor\":\"white\"},\"zaxis\":{\"backgroundcolor\":\"#E5ECF6\",\"gridcolor\":\"white\",\"gridwidth\":2,\"linecolor\":\"white\",\"showbackground\":true,\"ticks\":\"\",\"zerolinecolor\":\"white\"}},\"shapedefaults\":{\"line\":{\"color\":\"#2a3f5f\"}},\"ternary\":{\"aaxis\":{\"gridcolor\":\"white\",\"linecolor\":\"white\",\"ticks\":\"\"},\"baxis\":{\"gridcolor\":\"white\",\"linecolor\":\"white\",\"ticks\":\"\"},\"bgcolor\":\"#E5ECF6\",\"caxis\":{\"gridcolor\":\"white\",\"linecolor\":\"white\",\"ticks\":\"\"}},\"title\":{\"x\":0.05},\"xaxis\":{\"automargin\":true,\"gridcolor\":\"white\",\"linecolor\":\"white\",\"ticks\":\"\",\"title\":{\"standoff\":15},\"zerolinecolor\":\"white\",\"zerolinewidth\":2},\"yaxis\":{\"automargin\":true,\"gridcolor\":\"white\",\"linecolor\":\"white\",\"ticks\":\"\",\"title\":{\"standoff\":15},\"zerolinecolor\":\"white\",\"zerolinewidth\":2}}},\"scene\":{\"domain\":{\"x\":[0.0,1.0],\"y\":[0.0,1.0]},\"xaxis\":{\"title\":{\"text\":\"pc 1\"}},\"yaxis\":{\"title\":{\"text\":\"pc 2\"}},\"zaxis\":{\"title\":{\"text\":\"pc 3\"}}},\"legend\":{\"title\":{\"text\":\"Gestation\"},\"tracegroupgap\":0},\"margin\":{\"t\":60}},                        {\"responsive\": true}                    ).then(function(){\n",
              "                            \n",
              "var gd = document.getElementById('a36ff7ec-712f-46ab-bd7d-9409d9701487');\n",
              "var x = new MutationObserver(function (mutations, observer) {{\n",
              "        var display = window.getComputedStyle(gd).display;\n",
              "        if (!display || display === 'none') {{\n",
              "            console.log([gd, 'removed!']);\n",
              "            Plotly.purge(gd);\n",
              "            observer.disconnect();\n",
              "        }}\n",
              "}});\n",
              "\n",
              "// Listen for the removal of the full notebook cells\n",
              "var notebookContainer = gd.closest('#notebook-container');\n",
              "if (notebookContainer) {{\n",
              "    x.observe(notebookContainer, {childList: true});\n",
              "}}\n",
              "\n",
              "// Listen for the clearing of the current output cell\n",
              "var outputEl = gd.closest('.output');\n",
              "if (outputEl) {{\n",
              "    x.observe(outputEl, {childList: true});\n",
              "}}\n",
              "\n",
              "                        })                };                            </script>        </div>\n",
              "</body>\n",
              "</html>"
            ]
          },
          "metadata": {}
        }
      ]
    },
    {
      "cell_type": "markdown",
      "source": [
        "# testing different ML models\n",
        "Binary Classification Problem\n",
        "1. Decision Tree\n",
        "    - Regressor vs. Classifier\n",
        "2. Random Forest\n",
        "\n",
        "3. Logistic Regression\n",
        "4. Baysian Network\n",
        "5. SVM"
      ],
      "metadata": {
        "id": "a-79gIR9I6W_"
      }
    },
    {
      "cell_type": "code",
      "source": [
        "import pandas as pd\n",
        "from sklearn.model_selection import train_test_split"
      ],
      "metadata": {
        "id": "dRVgxjeeFqOB"
      },
      "execution_count": null,
      "outputs": []
    },
    {
      "cell_type": "code",
      "source": [
        "input_df = pd.read_csv('ordinal_encoding.csv')\n",
        "gestation_period = input_df['Gestation']\n",
        "input_stuff = input_df.drop(['Gestation', 'record_number'], axis=1)\n",
        "input_stuff.head()"
      ],
      "metadata": {
        "colab": {
          "base_uri": "https://localhost:8080/",
          "height": 305
        },
        "id": "mIgPYOjwIuhG",
        "outputId": "42608031-19d2-4ba3-b227-b35523f37202"
      },
      "execution_count": null,
      "outputs": [
        {
          "output_type": "execute_result",
          "data": {
            "text/plain": [
              "   Age  Parity  Abortions  Weight  Hypertension  Diabetes  Placental_position  \\\n",
              "0   30       0          0      58             0         0                   1   \n",
              "1   27       0          1     100             0         0                   1   \n",
              "2   28       0          2      72             0         0                   1   \n",
              "3   30       0          0      64             0         0                   0   \n",
              "4   37       1          1      79             0         0                   0   \n",
              "\n",
              "   Bleeding_first_trimester  Bleeding_second_trimester  Funneling  Smoker  \\\n",
              "0                         0                          0          0       0   \n",
              "1                         0                          0          0       0   \n",
              "2                         0                          0          0       0   \n",
              "3                         1                          0          0       0   \n",
              "4                         0                          0          0       0   \n",
              "\n",
              "   Root Mean Square  Median Frequency  Peak Frequency  Sample Entropy  \n",
              "0           27.9148            0.3109          0.3159           0.502  \n",
              "1            7.5545            0.1750          0.1522           0.732  \n",
              "2           12.7331            0.1816          0.1816           0.817  \n",
              "3            8.4929            0.3059          0.3402           0.747  \n",
              "4           14.9220            0.1294          0.1144           0.499  "
            ],
            "text/html": [
              "\n",
              "  <div id=\"df-d9a92c9e-30b1-4ddb-856a-67606a421949\">\n",
              "    <div class=\"colab-df-container\">\n",
              "      <div>\n",
              "<style scoped>\n",
              "    .dataframe tbody tr th:only-of-type {\n",
              "        vertical-align: middle;\n",
              "    }\n",
              "\n",
              "    .dataframe tbody tr th {\n",
              "        vertical-align: top;\n",
              "    }\n",
              "\n",
              "    .dataframe thead th {\n",
              "        text-align: right;\n",
              "    }\n",
              "</style>\n",
              "<table border=\"1\" class=\"dataframe\">\n",
              "  <thead>\n",
              "    <tr style=\"text-align: right;\">\n",
              "      <th></th>\n",
              "      <th>Age</th>\n",
              "      <th>Parity</th>\n",
              "      <th>Abortions</th>\n",
              "      <th>Weight</th>\n",
              "      <th>Hypertension</th>\n",
              "      <th>Diabetes</th>\n",
              "      <th>Placental_position</th>\n",
              "      <th>Bleeding_first_trimester</th>\n",
              "      <th>Bleeding_second_trimester</th>\n",
              "      <th>Funneling</th>\n",
              "      <th>Smoker</th>\n",
              "      <th>Root Mean Square</th>\n",
              "      <th>Median Frequency</th>\n",
              "      <th>Peak Frequency</th>\n",
              "      <th>Sample Entropy</th>\n",
              "    </tr>\n",
              "  </thead>\n",
              "  <tbody>\n",
              "    <tr>\n",
              "      <th>0</th>\n",
              "      <td>30</td>\n",
              "      <td>0</td>\n",
              "      <td>0</td>\n",
              "      <td>58</td>\n",
              "      <td>0</td>\n",
              "      <td>0</td>\n",
              "      <td>1</td>\n",
              "      <td>0</td>\n",
              "      <td>0</td>\n",
              "      <td>0</td>\n",
              "      <td>0</td>\n",
              "      <td>27.9148</td>\n",
              "      <td>0.3109</td>\n",
              "      <td>0.3159</td>\n",
              "      <td>0.502</td>\n",
              "    </tr>\n",
              "    <tr>\n",
              "      <th>1</th>\n",
              "      <td>27</td>\n",
              "      <td>0</td>\n",
              "      <td>1</td>\n",
              "      <td>100</td>\n",
              "      <td>0</td>\n",
              "      <td>0</td>\n",
              "      <td>1</td>\n",
              "      <td>0</td>\n",
              "      <td>0</td>\n",
              "      <td>0</td>\n",
              "      <td>0</td>\n",
              "      <td>7.5545</td>\n",
              "      <td>0.1750</td>\n",
              "      <td>0.1522</td>\n",
              "      <td>0.732</td>\n",
              "    </tr>\n",
              "    <tr>\n",
              "      <th>2</th>\n",
              "      <td>28</td>\n",
              "      <td>0</td>\n",
              "      <td>2</td>\n",
              "      <td>72</td>\n",
              "      <td>0</td>\n",
              "      <td>0</td>\n",
              "      <td>1</td>\n",
              "      <td>0</td>\n",
              "      <td>0</td>\n",
              "      <td>0</td>\n",
              "      <td>0</td>\n",
              "      <td>12.7331</td>\n",
              "      <td>0.1816</td>\n",
              "      <td>0.1816</td>\n",
              "      <td>0.817</td>\n",
              "    </tr>\n",
              "    <tr>\n",
              "      <th>3</th>\n",
              "      <td>30</td>\n",
              "      <td>0</td>\n",
              "      <td>0</td>\n",
              "      <td>64</td>\n",
              "      <td>0</td>\n",
              "      <td>0</td>\n",
              "      <td>0</td>\n",
              "      <td>1</td>\n",
              "      <td>0</td>\n",
              "      <td>0</td>\n",
              "      <td>0</td>\n",
              "      <td>8.4929</td>\n",
              "      <td>0.3059</td>\n",
              "      <td>0.3402</td>\n",
              "      <td>0.747</td>\n",
              "    </tr>\n",
              "    <tr>\n",
              "      <th>4</th>\n",
              "      <td>37</td>\n",
              "      <td>1</td>\n",
              "      <td>1</td>\n",
              "      <td>79</td>\n",
              "      <td>0</td>\n",
              "      <td>0</td>\n",
              "      <td>0</td>\n",
              "      <td>0</td>\n",
              "      <td>0</td>\n",
              "      <td>0</td>\n",
              "      <td>0</td>\n",
              "      <td>14.9220</td>\n",
              "      <td>0.1294</td>\n",
              "      <td>0.1144</td>\n",
              "      <td>0.499</td>\n",
              "    </tr>\n",
              "  </tbody>\n",
              "</table>\n",
              "</div>\n",
              "      <button class=\"colab-df-convert\" onclick=\"convertToInteractive('df-d9a92c9e-30b1-4ddb-856a-67606a421949')\"\n",
              "              title=\"Convert this dataframe to an interactive table.\"\n",
              "              style=\"display:none;\">\n",
              "        \n",
              "  <svg xmlns=\"http://www.w3.org/2000/svg\" height=\"24px\"viewBox=\"0 0 24 24\"\n",
              "       width=\"24px\">\n",
              "    <path d=\"M0 0h24v24H0V0z\" fill=\"none\"/>\n",
              "    <path d=\"M18.56 5.44l.94 2.06.94-2.06 2.06-.94-2.06-.94-.94-2.06-.94 2.06-2.06.94zm-11 1L8.5 8.5l.94-2.06 2.06-.94-2.06-.94L8.5 2.5l-.94 2.06-2.06.94zm10 10l.94 2.06.94-2.06 2.06-.94-2.06-.94-.94-2.06-.94 2.06-2.06.94z\"/><path d=\"M17.41 7.96l-1.37-1.37c-.4-.4-.92-.59-1.43-.59-.52 0-1.04.2-1.43.59L10.3 9.45l-7.72 7.72c-.78.78-.78 2.05 0 2.83L4 21.41c.39.39.9.59 1.41.59.51 0 1.02-.2 1.41-.59l7.78-7.78 2.81-2.81c.8-.78.8-2.07 0-2.86zM5.41 20L4 18.59l7.72-7.72 1.47 1.35L5.41 20z\"/>\n",
              "  </svg>\n",
              "      </button>\n",
              "      \n",
              "  <style>\n",
              "    .colab-df-container {\n",
              "      display:flex;\n",
              "      flex-wrap:wrap;\n",
              "      gap: 12px;\n",
              "    }\n",
              "\n",
              "    .colab-df-convert {\n",
              "      background-color: #E8F0FE;\n",
              "      border: none;\n",
              "      border-radius: 50%;\n",
              "      cursor: pointer;\n",
              "      display: none;\n",
              "      fill: #1967D2;\n",
              "      height: 32px;\n",
              "      padding: 0 0 0 0;\n",
              "      width: 32px;\n",
              "    }\n",
              "\n",
              "    .colab-df-convert:hover {\n",
              "      background-color: #E2EBFA;\n",
              "      box-shadow: 0px 1px 2px rgba(60, 64, 67, 0.3), 0px 1px 3px 1px rgba(60, 64, 67, 0.15);\n",
              "      fill: #174EA6;\n",
              "    }\n",
              "\n",
              "    [theme=dark] .colab-df-convert {\n",
              "      background-color: #3B4455;\n",
              "      fill: #D2E3FC;\n",
              "    }\n",
              "\n",
              "    [theme=dark] .colab-df-convert:hover {\n",
              "      background-color: #434B5C;\n",
              "      box-shadow: 0px 1px 3px 1px rgba(0, 0, 0, 0.15);\n",
              "      filter: drop-shadow(0px 1px 2px rgba(0, 0, 0, 0.3));\n",
              "      fill: #FFFFFF;\n",
              "    }\n",
              "  </style>\n",
              "\n",
              "      <script>\n",
              "        const buttonEl =\n",
              "          document.querySelector('#df-d9a92c9e-30b1-4ddb-856a-67606a421949 button.colab-df-convert');\n",
              "        buttonEl.style.display =\n",
              "          google.colab.kernel.accessAllowed ? 'block' : 'none';\n",
              "\n",
              "        async function convertToInteractive(key) {\n",
              "          const element = document.querySelector('#df-d9a92c9e-30b1-4ddb-856a-67606a421949');\n",
              "          const dataTable =\n",
              "            await google.colab.kernel.invokeFunction('convertToInteractive',\n",
              "                                                     [key], {});\n",
              "          if (!dataTable) return;\n",
              "\n",
              "          const docLinkHtml = 'Like what you see? Visit the ' +\n",
              "            '<a target=\"_blank\" href=https://colab.research.google.com/notebooks/data_table.ipynb>data table notebook</a>'\n",
              "            + ' to learn more about interactive tables.';\n",
              "          element.innerHTML = '';\n",
              "          dataTable['output_type'] = 'display_data';\n",
              "          await google.colab.output.renderOutput(dataTable, element);\n",
              "          const docLink = document.createElement('div');\n",
              "          docLink.innerHTML = docLinkHtml;\n",
              "          element.appendChild(docLink);\n",
              "        }\n",
              "      </script>\n",
              "    </div>\n",
              "  </div>\n",
              "  "
            ]
          },
          "metadata": {},
          "execution_count": 40
        }
      ]
    },
    {
      "cell_type": "code",
      "source": [
        "gestation_period.head()"
      ],
      "metadata": {
        "colab": {
          "base_uri": "https://localhost:8080/"
        },
        "id": "aFAB78dSIuky",
        "outputId": "1dda5a01-b4b2-4d56-c128-b49077719e13"
      },
      "execution_count": null,
      "outputs": [
        {
          "output_type": "execute_result",
          "data": {
            "text/plain": [
              "0    35.0\n",
              "1    37.1\n",
              "2    38.6\n",
              "3    38.9\n",
              "4    40.3\n",
              "Name: Gestation, dtype: float64"
            ]
          },
          "metadata": {},
          "execution_count": 41
        }
      ]
    },
    {
      "cell_type": "markdown",
      "source": [
        "## Decision Tree"
      ],
      "metadata": {
        "id": "blEKNBgwJFm7"
      }
    },
    {
      "cell_type": "code",
      "source": [
        "from sklearn.tree import DecisionTreeClassifier\n",
        "from sklearn.tree import DecisionTreeRegressor"
      ],
      "metadata": {
        "id": "MJmYSwsKIuoy"
      },
      "execution_count": null,
      "outputs": []
    },
    {
      "cell_type": "code",
      "source": [
        "input_train, input_test, output_train, output_test = train_test_split(input_stuff, gestation_period, test_size=.2, random_state=81)"
      ],
      "metadata": {
        "id": "c9ClFnQrIusn"
      },
      "execution_count": null,
      "outputs": []
    },
    {
      "cell_type": "code",
      "source": [
        "len(output_train[output_train < 37]), len(output_test[output_test < 37])"
      ],
      "metadata": {
        "colab": {
          "base_uri": "https://localhost:8080/"
        },
        "id": "RyajPv7zIuwQ",
        "outputId": "f5d2a242-4de3-48b1-b92f-a13f7260530f"
      },
      "execution_count": null,
      "outputs": [
        {
          "output_type": "execute_result",
          "data": {
            "text/plain": [
              "(14, 5)"
            ]
          },
          "metadata": {},
          "execution_count": 44
        }
      ]
    },
    {
      "cell_type": "code",
      "source": [
        "regressor = DecisionTreeRegressor(random_state=69)\n",
        "regressor.fit(input_train, output_train)"
      ],
      "metadata": {
        "colab": {
          "base_uri": "https://localhost:8080/"
        },
        "id": "NPpZIXzwJP9x",
        "outputId": "1959c744-14c2-4e5d-857b-9cd4d6a8f43c"
      },
      "execution_count": null,
      "outputs": [
        {
          "output_type": "execute_result",
          "data": {
            "text/plain": [
              "DecisionTreeRegressor(random_state=69)"
            ]
          },
          "metadata": {},
          "execution_count": 45
        }
      ]
    },
    {
      "cell_type": "code",
      "source": [
        "output_predicted = regressor.predict(input_test)"
      ],
      "metadata": {
        "id": "o9EyfXWMJQBg"
      },
      "execution_count": null,
      "outputs": []
    },
    {
      "cell_type": "markdown",
      "source": [
        "#### With normalization\n",
        "- using the StandardScaler, assuming that the data is normally distributed (?)"
      ],
      "metadata": {
        "id": "qOtqz57GJb4l"
      }
    },
    {
      "cell_type": "code",
      "source": [
        "from sklearn.preprocessing import StandardScaler\n",
        "standard_scaled_input_df = StandardScaler().fit_transform(input_df)\n",
        "scaled_input_train, scaled_input_test, scaled_output_train, scaled_output_test = train_test_split(standard_scaled_input_df, gestation_period, test_size=.2, random_state=81)"
      ],
      "metadata": {
        "id": "I4lK5WGoJQFa"
      },
      "execution_count": null,
      "outputs": []
    },
    {
      "cell_type": "code",
      "source": [
        "regressor = DecisionTreeRegressor(random_state=69)\n",
        "regressor.fit(scaled_input_train, scaled_output_train)\n",
        "scaled_output_predicted = regressor.predict(scaled_input_test)"
      ],
      "metadata": {
        "id": "6d-pXZk-JQI5"
      },
      "execution_count": null,
      "outputs": []
    },
    {
      "cell_type": "markdown",
      "source": [
        "#### Optimizations\n",
        "1. max number of leaf nodes"
      ],
      "metadata": {
        "id": "r2EtGI0XJk_l"
      }
    },
    {
      "cell_type": "markdown",
      "source": [
        "### Validation\n",
        "1. Accuracy\n",
        "1. MSE"
      ],
      "metadata": {
        "id": "JrU1MULFJmId"
      }
    },
    {
      "cell_type": "code",
      "source": [
        "from sklearn.metrics import mean_squared_error\n",
        "from sklearn.metrics import accuracy_score"
      ],
      "metadata": {
        "id": "P6r8rihpJQMV"
      },
      "execution_count": null,
      "outputs": []
    },
    {
      "cell_type": "code",
      "source": [
        "# without normalization\n",
        "mean_squared_error(output_test, output_predicted)"
      ],
      "metadata": {
        "colab": {
          "base_uri": "https://localhost:8080/"
        },
        "id": "UfvrVvytJQPt",
        "outputId": "63320003-9d84-4f7b-b25e-aecf5bd34116"
      },
      "execution_count": null,
      "outputs": [
        {
          "output_type": "execute_result",
          "data": {
            "text/plain": [
              "5.408823529411758"
            ]
          },
          "metadata": {},
          "execution_count": 50
        }
      ]
    },
    {
      "cell_type": "code",
      "source": [
        "# with normalization\n",
        "mean_squared_error(scaled_output_test, scaled_output_predicted)"
      ],
      "metadata": {
        "colab": {
          "base_uri": "https://localhost:8080/"
        },
        "id": "ydLvwyVzJQTW",
        "outputId": "1b2e8522-bfe8-47db-cba4-3b7d0761f412"
      },
      "execution_count": null,
      "outputs": [
        {
          "output_type": "execute_result",
          "data": {
            "text/plain": [
              "0.017352941176470786"
            ]
          },
          "metadata": {},
          "execution_count": 51
        }
      ]
    },
    {
      "cell_type": "code",
      "source": [],
      "metadata": {
        "id": "P62VPTPGYLYR"
      },
      "execution_count": null,
      "outputs": []
    },
    {
      "cell_type": "code",
      "source": [],
      "metadata": {
        "id": "YxuOaabVYLbo"
      },
      "execution_count": null,
      "outputs": []
    },
    {
      "cell_type": "code",
      "source": [
        "from sklearn.preprocessing import StandardScaler\n",
        "standard_scaled_input_df = StandardScaler().fit_transform(input_df)\n",
        "scaled_input_train1, scaled_input_test, scaled_output_train1, y_test = train_test_split(standard_scaled_input_df, gestation_period, test_size=.1, random_state=81)\n",
        "scaled_input_train, scaled_input_valid, y_train, y_validate = train_test_split(scaled_input_train1, scaled_output_train1, test_size=.1, random_state=81)"
      ],
      "metadata": {
        "id": "o9JMutiXbKZj"
      },
      "execution_count": null,
      "outputs": []
    },
    {
      "cell_type": "code",
      "execution_count": null,
      "metadata": {
        "id": "tVp8MmwsasFw",
        "outputId": "e2e5650e-41a4-41fe-b10f-d251194ec147",
        "colab": {
          "base_uri": "https://localhost:8080/"
        }
      },
      "outputs": [
        {
          "output_type": "stream",
          "name": "stdout",
          "text": [
            "(136, 17, 1)\n",
            "(136,)\n",
            "(16, 17, 1)\n",
            "(16,)\n",
            "(17, 17, 1)\n",
            "(17,)\n"
          ]
        }
      ],
      "source": [
        "X_train = np.expand_dims(scaled_input_train, -1)\n",
        "X_test = np.expand_dims(scaled_input_test, -1)\n",
        "X_validate = np.expand_dims(scaled_input_valid, -1)\n",
        "\n",
        "print(X_train.shape)\n",
        "print(y_train.shape)\n",
        "print(X_validate.shape)\n",
        "print(y_validate.shape)\n",
        "print(X_test.shape)\n",
        "print(y_test.shape)"
      ]
    },
    {
      "cell_type": "code",
      "source": [
        "from keras.models import Sequential\n",
        "from tensorflow.keras import layers\n",
        "import keras\n",
        "from keras.models import Sequential\n",
        "from keras.layers import Conv1D, MaxPooling1D, Dense, Flatten, Dropout, BatchNormalization\n",
        "from tensorflow.keras.optimizers import Adam"
      ],
      "metadata": {
        "id": "ARYvYgp2Qllx"
      },
      "execution_count": null,
      "outputs": []
    },
    {
      "cell_type": "code",
      "execution_count": null,
      "metadata": {
        "_kg_hide-output": true,
        "id": "BrSqqEAQasFt",
        "outputId": "a29b96c8-7683-41da-ed78-6dac9ffcc9d2"
      },
      "outputs": [
        {
          "name": "stdout",
          "output_type": "stream",
          "text": [
            "Epoch 1/10\n",
            "3632/3632 [==============================] - 39s 11ms/step - loss: 0.0541 - accuracy: 0.9916 - val_loss: 0.0205 - val_accuracy: 0.9990\n",
            "Epoch 2/10\n",
            "3632/3632 [==============================] - 39s 11ms/step - loss: 0.0106 - accuracy: 0.9985 - val_loss: 0.0133 - val_accuracy: 0.9991\n",
            "Epoch 3/10\n",
            "3632/3632 [==============================] - 38s 10ms/step - loss: 0.0076 - accuracy: 0.9989 - val_loss: 0.0114 - val_accuracy: 0.9992\n",
            "Epoch 4/10\n",
            "3632/3632 [==============================] - 38s 10ms/step - loss: 0.0066 - accuracy: 0.9989 - val_loss: 0.0092 - val_accuracy: 0.9993\n",
            "Epoch 5/10\n",
            "3632/3632 [==============================] - 39s 11ms/step - loss: 0.0061 - accuracy: 0.9990 - val_loss: 0.0086 - val_accuracy: 0.9993\n",
            "Epoch 6/10\n",
            "3632/3632 [==============================] - 40s 11ms/step - loss: 0.0063 - accuracy: 0.9990 - val_loss: 0.0081 - val_accuracy: 0.9993\n",
            "Epoch 7/10\n",
            "3632/3632 [==============================] - 37s 10ms/step - loss: 0.0059 - accuracy: 0.9991 - val_loss: 0.0073 - val_accuracy: 0.9993\n",
            "Epoch 8/10\n",
            "3632/3632 [==============================] - 37s 10ms/step - loss: 0.0053 - accuracy: 0.9991 - val_loss: 0.0083 - val_accuracy: 0.9991\n",
            "Epoch 9/10\n",
            "3632/3632 [==============================] - 47s 13ms/step - loss: 0.0054 - accuracy: 0.9991 - val_loss: 0.0069 - val_accuracy: 0.9993\n",
            "Epoch 10/10\n",
            "3632/3632 [==============================] - 38s 10ms/step - loss: 0.0051 - accuracy: 0.9991 - val_loss: 0.0071 - val_accuracy: 0.9993\n"
          ]
        }
      ],
      "source": [
        "# weights = {0:1, 1:5}\n",
        "\n",
        "model.compile(optimizer=Adam(0.00001), loss='binary_crossentropy', metrics=[\"accuracy\"])\n",
        "r = model.fit(X_train, y_train,\n",
        "              validation_data=(X_validate, y_validate),\n",
        "              batch_size=50,\n",
        "              epochs=epochs,\n",
        "#               class_weight=weights\n",
        "             )"
      ]
    },
    {
      "cell_type": "code",
      "execution_count": null,
      "metadata": {
        "id": "R_gAbmrBasFu",
        "outputId": "a7c8d698-8fa5-4423-a31e-dc8a8cf329cd"
      },
      "outputs": [
        {
          "name": "stdout",
          "output_type": "stream",
          "text": [
            "1774/1774 [==============================] - 6s 4ms/step - loss: 0.0065 - accuracy: 0.9993\n"
          ]
        }
      ],
      "source": [
        "\n",
        "score = model.evaluate(X_test, y_test)\n"
      ]
    },
    {
      "cell_type": "code",
      "execution_count": null,
      "metadata": {
        "id": "VBA-INYJasFu",
        "outputId": "87e22b46-01d5-40bf-db0c-fc16070176e3"
      },
      "outputs": [
        {
          "name": "stdout",
          "output_type": "stream",
          "text": [
            "[0.0064660548232495785, 0.9992951154708862]\n"
          ]
        }
      ],
      "source": [
        "print(score)"
      ]
    },
    {
      "cell_type": "code",
      "execution_count": null,
      "metadata": {
        "id": "ImlKFXg_asFu",
        "outputId": "92b8c7fa-53c8-4786-aa74-3731dfd896fc"
      },
      "outputs": [
        {
          "data": {
            "text/plain": [
              "<matplotlib.legend.Legend at 0x1e963ae6fc8>"
            ]
          },
          "execution_count": 115,
          "metadata": {},
          "output_type": "execute_result"
        },
        {
          "data": {
            "image/png": "[encoded data removed]",
            "text/plain": [
              "<Figure size 864x576 with 2 Axes>"
            ]
          },
          "metadata": {},
          "output_type": "display_data"
        }
      ],
      "source": [
        "plt.figure(figsize=(12, 8))\n",
        "\n",
        "plt.subplot(2, 2, 1)\n",
        "plt.plot(r.history['loss'], label='Loss')\n",
        "plt.plot(r.history['val_loss'], label='val_Loss')\n",
        "plt.legend()\n",
        "\n",
        "plt.subplot(2, 2, 2)\n",
        "plt.plot(r.history['accuracy'], label='accuracy')\n",
        "plt.plot(r.history['val_accuracy'], label='val_accuracy')\n",
        "plt.legend()"
      ]
    }
  ]
}